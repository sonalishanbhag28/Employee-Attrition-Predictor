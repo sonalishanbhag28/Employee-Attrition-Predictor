{
 "cells": [
  {
   "cell_type": "markdown",
   "id": "de834dbc",
   "metadata": {},
   "source": [
    "# Analysis of Employee Attrition \n",
    "\n",
    "Sonali Shanbhag"
   ]
  },
  {
   "cell_type": "markdown",
   "id": "2ebab53e",
   "metadata": {},
   "source": [
    "### Import required libraries"
   ]
  },
  {
   "cell_type": "code",
   "execution_count": 1,
   "id": "bcca2e97",
   "metadata": {},
   "outputs": [],
   "source": [
    "import numpy as np\n",
    "import pandas as pd\n",
    "import matplotlib.pyplot as plt"
   ]
  },
  {
   "cell_type": "markdown",
   "id": "f8418196",
   "metadata": {},
   "source": [
    "### Read the dataset"
   ]
  },
  {
   "cell_type": "code",
   "execution_count": 2,
   "id": "61f04840",
   "metadata": {},
   "outputs": [
    {
     "data": {
      "text/html": [
       "<div>\n",
       "<style scoped>\n",
       "    .dataframe tbody tr th:only-of-type {\n",
       "        vertical-align: middle;\n",
       "    }\n",
       "\n",
       "    .dataframe tbody tr th {\n",
       "        vertical-align: top;\n",
       "    }\n",
       "\n",
       "    .dataframe thead th {\n",
       "        text-align: right;\n",
       "    }\n",
       "</style>\n",
       "<table border=\"1\" class=\"dataframe\">\n",
       "  <thead>\n",
       "    <tr style=\"text-align: right;\">\n",
       "      <th></th>\n",
       "      <th>Age</th>\n",
       "      <th>Attrition</th>\n",
       "      <th>BusinessTravel</th>\n",
       "      <th>DailyRate</th>\n",
       "      <th>Department</th>\n",
       "      <th>DistanceFromHome</th>\n",
       "      <th>Education</th>\n",
       "      <th>EducationField</th>\n",
       "      <th>EmployeeCount</th>\n",
       "      <th>EmployeeNumber</th>\n",
       "      <th>...</th>\n",
       "      <th>RelationshipSatisfaction</th>\n",
       "      <th>StandardHours</th>\n",
       "      <th>StockOptionLevel</th>\n",
       "      <th>TotalWorkingYears</th>\n",
       "      <th>TrainingTimesLastYear</th>\n",
       "      <th>WorkLifeBalance</th>\n",
       "      <th>YearsAtCompany</th>\n",
       "      <th>YearsInCurrentRole</th>\n",
       "      <th>YearsSinceLastPromotion</th>\n",
       "      <th>YearsWithCurrManager</th>\n",
       "    </tr>\n",
       "  </thead>\n",
       "  <tbody>\n",
       "    <tr>\n",
       "      <th>0</th>\n",
       "      <td>41</td>\n",
       "      <td>Yes</td>\n",
       "      <td>Travel_Rarely</td>\n",
       "      <td>1102</td>\n",
       "      <td>Sales</td>\n",
       "      <td>1</td>\n",
       "      <td>2</td>\n",
       "      <td>Life Sciences</td>\n",
       "      <td>1</td>\n",
       "      <td>1</td>\n",
       "      <td>...</td>\n",
       "      <td>1</td>\n",
       "      <td>80</td>\n",
       "      <td>0</td>\n",
       "      <td>8</td>\n",
       "      <td>0</td>\n",
       "      <td>1</td>\n",
       "      <td>6</td>\n",
       "      <td>4</td>\n",
       "      <td>0</td>\n",
       "      <td>5</td>\n",
       "    </tr>\n",
       "    <tr>\n",
       "      <th>1</th>\n",
       "      <td>49</td>\n",
       "      <td>No</td>\n",
       "      <td>Travel_Frequently</td>\n",
       "      <td>279</td>\n",
       "      <td>Research &amp; Development</td>\n",
       "      <td>8</td>\n",
       "      <td>1</td>\n",
       "      <td>Life Sciences</td>\n",
       "      <td>1</td>\n",
       "      <td>2</td>\n",
       "      <td>...</td>\n",
       "      <td>4</td>\n",
       "      <td>80</td>\n",
       "      <td>1</td>\n",
       "      <td>10</td>\n",
       "      <td>3</td>\n",
       "      <td>3</td>\n",
       "      <td>10</td>\n",
       "      <td>7</td>\n",
       "      <td>1</td>\n",
       "      <td>7</td>\n",
       "    </tr>\n",
       "    <tr>\n",
       "      <th>2</th>\n",
       "      <td>37</td>\n",
       "      <td>Yes</td>\n",
       "      <td>Travel_Rarely</td>\n",
       "      <td>1373</td>\n",
       "      <td>Research &amp; Development</td>\n",
       "      <td>2</td>\n",
       "      <td>2</td>\n",
       "      <td>Other</td>\n",
       "      <td>1</td>\n",
       "      <td>4</td>\n",
       "      <td>...</td>\n",
       "      <td>2</td>\n",
       "      <td>80</td>\n",
       "      <td>0</td>\n",
       "      <td>7</td>\n",
       "      <td>3</td>\n",
       "      <td>3</td>\n",
       "      <td>0</td>\n",
       "      <td>0</td>\n",
       "      <td>0</td>\n",
       "      <td>0</td>\n",
       "    </tr>\n",
       "    <tr>\n",
       "      <th>3</th>\n",
       "      <td>33</td>\n",
       "      <td>No</td>\n",
       "      <td>Travel_Frequently</td>\n",
       "      <td>1392</td>\n",
       "      <td>Research &amp; Development</td>\n",
       "      <td>3</td>\n",
       "      <td>4</td>\n",
       "      <td>Life Sciences</td>\n",
       "      <td>1</td>\n",
       "      <td>5</td>\n",
       "      <td>...</td>\n",
       "      <td>3</td>\n",
       "      <td>80</td>\n",
       "      <td>0</td>\n",
       "      <td>8</td>\n",
       "      <td>3</td>\n",
       "      <td>3</td>\n",
       "      <td>8</td>\n",
       "      <td>7</td>\n",
       "      <td>3</td>\n",
       "      <td>0</td>\n",
       "    </tr>\n",
       "    <tr>\n",
       "      <th>4</th>\n",
       "      <td>27</td>\n",
       "      <td>No</td>\n",
       "      <td>Travel_Rarely</td>\n",
       "      <td>591</td>\n",
       "      <td>Research &amp; Development</td>\n",
       "      <td>2</td>\n",
       "      <td>1</td>\n",
       "      <td>Medical</td>\n",
       "      <td>1</td>\n",
       "      <td>7</td>\n",
       "      <td>...</td>\n",
       "      <td>4</td>\n",
       "      <td>80</td>\n",
       "      <td>1</td>\n",
       "      <td>6</td>\n",
       "      <td>3</td>\n",
       "      <td>3</td>\n",
       "      <td>2</td>\n",
       "      <td>2</td>\n",
       "      <td>2</td>\n",
       "      <td>2</td>\n",
       "    </tr>\n",
       "    <tr>\n",
       "      <th>...</th>\n",
       "      <td>...</td>\n",
       "      <td>...</td>\n",
       "      <td>...</td>\n",
       "      <td>...</td>\n",
       "      <td>...</td>\n",
       "      <td>...</td>\n",
       "      <td>...</td>\n",
       "      <td>...</td>\n",
       "      <td>...</td>\n",
       "      <td>...</td>\n",
       "      <td>...</td>\n",
       "      <td>...</td>\n",
       "      <td>...</td>\n",
       "      <td>...</td>\n",
       "      <td>...</td>\n",
       "      <td>...</td>\n",
       "      <td>...</td>\n",
       "      <td>...</td>\n",
       "      <td>...</td>\n",
       "      <td>...</td>\n",
       "      <td>...</td>\n",
       "    </tr>\n",
       "    <tr>\n",
       "      <th>1465</th>\n",
       "      <td>36</td>\n",
       "      <td>No</td>\n",
       "      <td>Travel_Frequently</td>\n",
       "      <td>884</td>\n",
       "      <td>Research &amp; Development</td>\n",
       "      <td>23</td>\n",
       "      <td>2</td>\n",
       "      <td>Medical</td>\n",
       "      <td>1</td>\n",
       "      <td>2061</td>\n",
       "      <td>...</td>\n",
       "      <td>3</td>\n",
       "      <td>80</td>\n",
       "      <td>1</td>\n",
       "      <td>17</td>\n",
       "      <td>3</td>\n",
       "      <td>3</td>\n",
       "      <td>5</td>\n",
       "      <td>2</td>\n",
       "      <td>0</td>\n",
       "      <td>3</td>\n",
       "    </tr>\n",
       "    <tr>\n",
       "      <th>1466</th>\n",
       "      <td>39</td>\n",
       "      <td>No</td>\n",
       "      <td>Travel_Rarely</td>\n",
       "      <td>613</td>\n",
       "      <td>Research &amp; Development</td>\n",
       "      <td>6</td>\n",
       "      <td>1</td>\n",
       "      <td>Medical</td>\n",
       "      <td>1</td>\n",
       "      <td>2062</td>\n",
       "      <td>...</td>\n",
       "      <td>1</td>\n",
       "      <td>80</td>\n",
       "      <td>1</td>\n",
       "      <td>9</td>\n",
       "      <td>5</td>\n",
       "      <td>3</td>\n",
       "      <td>7</td>\n",
       "      <td>7</td>\n",
       "      <td>1</td>\n",
       "      <td>7</td>\n",
       "    </tr>\n",
       "    <tr>\n",
       "      <th>1467</th>\n",
       "      <td>27</td>\n",
       "      <td>No</td>\n",
       "      <td>Travel_Rarely</td>\n",
       "      <td>155</td>\n",
       "      <td>Research &amp; Development</td>\n",
       "      <td>4</td>\n",
       "      <td>3</td>\n",
       "      <td>Life Sciences</td>\n",
       "      <td>1</td>\n",
       "      <td>2064</td>\n",
       "      <td>...</td>\n",
       "      <td>2</td>\n",
       "      <td>80</td>\n",
       "      <td>1</td>\n",
       "      <td>6</td>\n",
       "      <td>0</td>\n",
       "      <td>3</td>\n",
       "      <td>6</td>\n",
       "      <td>2</td>\n",
       "      <td>0</td>\n",
       "      <td>3</td>\n",
       "    </tr>\n",
       "    <tr>\n",
       "      <th>1468</th>\n",
       "      <td>49</td>\n",
       "      <td>No</td>\n",
       "      <td>Travel_Frequently</td>\n",
       "      <td>1023</td>\n",
       "      <td>Sales</td>\n",
       "      <td>2</td>\n",
       "      <td>3</td>\n",
       "      <td>Medical</td>\n",
       "      <td>1</td>\n",
       "      <td>2065</td>\n",
       "      <td>...</td>\n",
       "      <td>4</td>\n",
       "      <td>80</td>\n",
       "      <td>0</td>\n",
       "      <td>17</td>\n",
       "      <td>3</td>\n",
       "      <td>2</td>\n",
       "      <td>9</td>\n",
       "      <td>6</td>\n",
       "      <td>0</td>\n",
       "      <td>8</td>\n",
       "    </tr>\n",
       "    <tr>\n",
       "      <th>1469</th>\n",
       "      <td>34</td>\n",
       "      <td>No</td>\n",
       "      <td>Travel_Rarely</td>\n",
       "      <td>628</td>\n",
       "      <td>Research &amp; Development</td>\n",
       "      <td>8</td>\n",
       "      <td>3</td>\n",
       "      <td>Medical</td>\n",
       "      <td>1</td>\n",
       "      <td>2068</td>\n",
       "      <td>...</td>\n",
       "      <td>1</td>\n",
       "      <td>80</td>\n",
       "      <td>0</td>\n",
       "      <td>6</td>\n",
       "      <td>3</td>\n",
       "      <td>4</td>\n",
       "      <td>4</td>\n",
       "      <td>3</td>\n",
       "      <td>1</td>\n",
       "      <td>2</td>\n",
       "    </tr>\n",
       "  </tbody>\n",
       "</table>\n",
       "<p>1470 rows × 35 columns</p>\n",
       "</div>"
      ],
      "text/plain": [
       "      Age Attrition     BusinessTravel  DailyRate              Department  \\\n",
       "0      41       Yes      Travel_Rarely       1102                   Sales   \n",
       "1      49        No  Travel_Frequently        279  Research & Development   \n",
       "2      37       Yes      Travel_Rarely       1373  Research & Development   \n",
       "3      33        No  Travel_Frequently       1392  Research & Development   \n",
       "4      27        No      Travel_Rarely        591  Research & Development   \n",
       "...   ...       ...                ...        ...                     ...   \n",
       "1465   36        No  Travel_Frequently        884  Research & Development   \n",
       "1466   39        No      Travel_Rarely        613  Research & Development   \n",
       "1467   27        No      Travel_Rarely        155  Research & Development   \n",
       "1468   49        No  Travel_Frequently       1023                   Sales   \n",
       "1469   34        No      Travel_Rarely        628  Research & Development   \n",
       "\n",
       "      DistanceFromHome  Education EducationField  EmployeeCount  \\\n",
       "0                    1          2  Life Sciences              1   \n",
       "1                    8          1  Life Sciences              1   \n",
       "2                    2          2          Other              1   \n",
       "3                    3          4  Life Sciences              1   \n",
       "4                    2          1        Medical              1   \n",
       "...                ...        ...            ...            ...   \n",
       "1465                23          2        Medical              1   \n",
       "1466                 6          1        Medical              1   \n",
       "1467                 4          3  Life Sciences              1   \n",
       "1468                 2          3        Medical              1   \n",
       "1469                 8          3        Medical              1   \n",
       "\n",
       "      EmployeeNumber  ...  RelationshipSatisfaction StandardHours  \\\n",
       "0                  1  ...                         1            80   \n",
       "1                  2  ...                         4            80   \n",
       "2                  4  ...                         2            80   \n",
       "3                  5  ...                         3            80   \n",
       "4                  7  ...                         4            80   \n",
       "...              ...  ...                       ...           ...   \n",
       "1465            2061  ...                         3            80   \n",
       "1466            2062  ...                         1            80   \n",
       "1467            2064  ...                         2            80   \n",
       "1468            2065  ...                         4            80   \n",
       "1469            2068  ...                         1            80   \n",
       "\n",
       "      StockOptionLevel  TotalWorkingYears  TrainingTimesLastYear  \\\n",
       "0                    0                  8                      0   \n",
       "1                    1                 10                      3   \n",
       "2                    0                  7                      3   \n",
       "3                    0                  8                      3   \n",
       "4                    1                  6                      3   \n",
       "...                ...                ...                    ...   \n",
       "1465                 1                 17                      3   \n",
       "1466                 1                  9                      5   \n",
       "1467                 1                  6                      0   \n",
       "1468                 0                 17                      3   \n",
       "1469                 0                  6                      3   \n",
       "\n",
       "     WorkLifeBalance  YearsAtCompany YearsInCurrentRole  \\\n",
       "0                  1               6                  4   \n",
       "1                  3              10                  7   \n",
       "2                  3               0                  0   \n",
       "3                  3               8                  7   \n",
       "4                  3               2                  2   \n",
       "...              ...             ...                ...   \n",
       "1465               3               5                  2   \n",
       "1466               3               7                  7   \n",
       "1467               3               6                  2   \n",
       "1468               2               9                  6   \n",
       "1469               4               4                  3   \n",
       "\n",
       "      YearsSinceLastPromotion  YearsWithCurrManager  \n",
       "0                           0                     5  \n",
       "1                           1                     7  \n",
       "2                           0                     0  \n",
       "3                           3                     0  \n",
       "4                           2                     2  \n",
       "...                       ...                   ...  \n",
       "1465                        0                     3  \n",
       "1466                        1                     7  \n",
       "1467                        0                     3  \n",
       "1468                        0                     8  \n",
       "1469                        1                     2  \n",
       "\n",
       "[1470 rows x 35 columns]"
      ]
     },
     "execution_count": 2,
     "metadata": {},
     "output_type": "execute_result"
    }
   ],
   "source": [
    "dataset = pd.read_csv(\"Employee Data.csv\")\n",
    "dataset"
   ]
  },
  {
   "cell_type": "markdown",
   "id": "4a02f59d",
   "metadata": {},
   "source": [
    "### Exploratory Data Visualization"
   ]
  },
  {
   "cell_type": "code",
   "execution_count": 3,
   "id": "a2f8cc2c",
   "metadata": {},
   "outputs": [
    {
     "data": {
      "image/png": "[encoded data removed]",
      "text/plain": [
       "<Figure size 432x288 with 1 Axes>"
      ]
     },
     "metadata": {},
     "output_type": "display_data"
    }
   ],
   "source": [
    "attrition_count = dataset['Attrition'].value_counts().to_numpy()\n",
    "plt.pie(attrition_count, labels = dataset['Attrition'].unique(),autopct='%.2f%%')\n",
    "plt.title('Employee Attrition')\n",
    "plt.show()"
   ]
  },
  {
   "cell_type": "markdown",
   "id": "c5183c57",
   "metadata": {},
   "source": [
    "An attrition rate of around 10% is an ideal figure, considering the 10% were part of the lowest performers. Losing high-engaging, high performing employees is definitely worrisome. This analytical study aims to figure out the most significant factors that push employees to leave, and subsequently allow the company to work on these areas to maintain an optimal employee retention rate. Since this company has a 16% attrition rate, it's important to analyze the data to see what can be done.  "
   ]
  },
  {
   "cell_type": "code",
   "execution_count": 4,
   "id": "c46c2c1b",
   "metadata": {},
   "outputs": [
    {
     "data": {
      "text/html": [
       "<div>\n",
       "<style scoped>\n",
       "    .dataframe tbody tr th:only-of-type {\n",
       "        vertical-align: middle;\n",
       "    }\n",
       "\n",
       "    .dataframe tbody tr th {\n",
       "        vertical-align: top;\n",
       "    }\n",
       "\n",
       "    .dataframe thead th {\n",
       "        text-align: right;\n",
       "    }\n",
       "</style>\n",
       "<table border=\"1\" class=\"dataframe\">\n",
       "  <thead>\n",
       "    <tr style=\"text-align: right;\">\n",
       "      <th></th>\n",
       "      <th>Age</th>\n",
       "      <th>DailyRate</th>\n",
       "      <th>DistanceFromHome</th>\n",
       "      <th>Education</th>\n",
       "      <th>EnvironmentSatisfaction</th>\n",
       "      <th>HourlyRate</th>\n",
       "      <th>JobInvolvement</th>\n",
       "      <th>JobLevel</th>\n",
       "      <th>JobSatisfaction</th>\n",
       "      <th>MonthlyIncome</th>\n",
       "      <th>...</th>\n",
       "      <th>PerformanceRating</th>\n",
       "      <th>RelationshipSatisfaction</th>\n",
       "      <th>StockOptionLevel</th>\n",
       "      <th>TotalWorkingYears</th>\n",
       "      <th>TrainingTimesLastYear</th>\n",
       "      <th>WorkLifeBalance</th>\n",
       "      <th>YearsAtCompany</th>\n",
       "      <th>YearsInCurrentRole</th>\n",
       "      <th>YearsSinceLastPromotion</th>\n",
       "      <th>YearsWithCurrManager</th>\n",
       "    </tr>\n",
       "  </thead>\n",
       "  <tbody>\n",
       "    <tr>\n",
       "      <th>Age</th>\n",
       "      <td>1.000000</td>\n",
       "      <td>0.010661</td>\n",
       "      <td>-0.001686</td>\n",
       "      <td>0.208034</td>\n",
       "      <td>0.010146</td>\n",
       "      <td>0.024287</td>\n",
       "      <td>0.029820</td>\n",
       "      <td>0.509604</td>\n",
       "      <td>-0.004892</td>\n",
       "      <td>0.497855</td>\n",
       "      <td>...</td>\n",
       "      <td>0.001904</td>\n",
       "      <td>0.053535</td>\n",
       "      <td>0.037510</td>\n",
       "      <td>0.680381</td>\n",
       "      <td>-0.019621</td>\n",
       "      <td>-0.021490</td>\n",
       "      <td>0.311309</td>\n",
       "      <td>0.212901</td>\n",
       "      <td>0.216513</td>\n",
       "      <td>0.202089</td>\n",
       "    </tr>\n",
       "    <tr>\n",
       "      <th>DailyRate</th>\n",
       "      <td>0.010661</td>\n",
       "      <td>1.000000</td>\n",
       "      <td>-0.004985</td>\n",
       "      <td>-0.016806</td>\n",
       "      <td>0.018355</td>\n",
       "      <td>0.023381</td>\n",
       "      <td>0.046135</td>\n",
       "      <td>0.002966</td>\n",
       "      <td>0.030571</td>\n",
       "      <td>0.007707</td>\n",
       "      <td>...</td>\n",
       "      <td>0.000473</td>\n",
       "      <td>0.007846</td>\n",
       "      <td>0.042143</td>\n",
       "      <td>0.014515</td>\n",
       "      <td>0.002453</td>\n",
       "      <td>-0.037848</td>\n",
       "      <td>-0.034055</td>\n",
       "      <td>0.009932</td>\n",
       "      <td>-0.033229</td>\n",
       "      <td>-0.026363</td>\n",
       "    </tr>\n",
       "    <tr>\n",
       "      <th>DistanceFromHome</th>\n",
       "      <td>-0.001686</td>\n",
       "      <td>-0.004985</td>\n",
       "      <td>1.000000</td>\n",
       "      <td>0.021042</td>\n",
       "      <td>-0.016075</td>\n",
       "      <td>0.031131</td>\n",
       "      <td>0.008783</td>\n",
       "      <td>0.005303</td>\n",
       "      <td>-0.003669</td>\n",
       "      <td>-0.017014</td>\n",
       "      <td>...</td>\n",
       "      <td>0.027110</td>\n",
       "      <td>0.006557</td>\n",
       "      <td>0.044872</td>\n",
       "      <td>0.004628</td>\n",
       "      <td>-0.036942</td>\n",
       "      <td>-0.026556</td>\n",
       "      <td>0.009508</td>\n",
       "      <td>0.018845</td>\n",
       "      <td>0.010029</td>\n",
       "      <td>0.014406</td>\n",
       "    </tr>\n",
       "    <tr>\n",
       "      <th>Education</th>\n",
       "      <td>0.208034</td>\n",
       "      <td>-0.016806</td>\n",
       "      <td>0.021042</td>\n",
       "      <td>1.000000</td>\n",
       "      <td>-0.027128</td>\n",
       "      <td>0.016775</td>\n",
       "      <td>0.042438</td>\n",
       "      <td>0.101589</td>\n",
       "      <td>-0.011296</td>\n",
       "      <td>0.094961</td>\n",
       "      <td>...</td>\n",
       "      <td>-0.024539</td>\n",
       "      <td>-0.009118</td>\n",
       "      <td>0.018422</td>\n",
       "      <td>0.148280</td>\n",
       "      <td>-0.025100</td>\n",
       "      <td>0.009819</td>\n",
       "      <td>0.069114</td>\n",
       "      <td>0.060236</td>\n",
       "      <td>0.054254</td>\n",
       "      <td>0.069065</td>\n",
       "    </tr>\n",
       "    <tr>\n",
       "      <th>EnvironmentSatisfaction</th>\n",
       "      <td>0.010146</td>\n",
       "      <td>0.018355</td>\n",
       "      <td>-0.016075</td>\n",
       "      <td>-0.027128</td>\n",
       "      <td>1.000000</td>\n",
       "      <td>-0.049857</td>\n",
       "      <td>-0.008278</td>\n",
       "      <td>0.001212</td>\n",
       "      <td>-0.006784</td>\n",
       "      <td>-0.006259</td>\n",
       "      <td>...</td>\n",
       "      <td>-0.029548</td>\n",
       "      <td>0.007665</td>\n",
       "      <td>0.003432</td>\n",
       "      <td>-0.002693</td>\n",
       "      <td>-0.019359</td>\n",
       "      <td>0.027627</td>\n",
       "      <td>0.001458</td>\n",
       "      <td>0.018007</td>\n",
       "      <td>0.016194</td>\n",
       "      <td>-0.004999</td>\n",
       "    </tr>\n",
       "    <tr>\n",
       "      <th>HourlyRate</th>\n",
       "      <td>0.024287</td>\n",
       "      <td>0.023381</td>\n",
       "      <td>0.031131</td>\n",
       "      <td>0.016775</td>\n",
       "      <td>-0.049857</td>\n",
       "      <td>1.000000</td>\n",
       "      <td>0.042861</td>\n",
       "      <td>-0.027853</td>\n",
       "      <td>-0.071335</td>\n",
       "      <td>-0.015794</td>\n",
       "      <td>...</td>\n",
       "      <td>-0.002172</td>\n",
       "      <td>0.001330</td>\n",
       "      <td>0.050263</td>\n",
       "      <td>-0.002334</td>\n",
       "      <td>-0.008548</td>\n",
       "      <td>-0.004607</td>\n",
       "      <td>-0.019582</td>\n",
       "      <td>-0.024106</td>\n",
       "      <td>-0.026716</td>\n",
       "      <td>-0.020123</td>\n",
       "    </tr>\n",
       "    <tr>\n",
       "      <th>JobInvolvement</th>\n",
       "      <td>0.029820</td>\n",
       "      <td>0.046135</td>\n",
       "      <td>0.008783</td>\n",
       "      <td>0.042438</td>\n",
       "      <td>-0.008278</td>\n",
       "      <td>0.042861</td>\n",
       "      <td>1.000000</td>\n",
       "      <td>-0.012630</td>\n",
       "      <td>-0.021476</td>\n",
       "      <td>-0.015271</td>\n",
       "      <td>...</td>\n",
       "      <td>-0.029071</td>\n",
       "      <td>0.034297</td>\n",
       "      <td>0.021523</td>\n",
       "      <td>-0.005533</td>\n",
       "      <td>-0.015338</td>\n",
       "      <td>-0.014617</td>\n",
       "      <td>-0.021355</td>\n",
       "      <td>0.008717</td>\n",
       "      <td>-0.024184</td>\n",
       "      <td>0.025976</td>\n",
       "    </tr>\n",
       "    <tr>\n",
       "      <th>JobLevel</th>\n",
       "      <td>0.509604</td>\n",
       "      <td>0.002966</td>\n",
       "      <td>0.005303</td>\n",
       "      <td>0.101589</td>\n",
       "      <td>0.001212</td>\n",
       "      <td>-0.027853</td>\n",
       "      <td>-0.012630</td>\n",
       "      <td>1.000000</td>\n",
       "      <td>-0.001944</td>\n",
       "      <td>0.950300</td>\n",
       "      <td>...</td>\n",
       "      <td>-0.021222</td>\n",
       "      <td>0.021642</td>\n",
       "      <td>0.013984</td>\n",
       "      <td>0.782208</td>\n",
       "      <td>-0.018191</td>\n",
       "      <td>0.037818</td>\n",
       "      <td>0.534739</td>\n",
       "      <td>0.389447</td>\n",
       "      <td>0.353885</td>\n",
       "      <td>0.375281</td>\n",
       "    </tr>\n",
       "    <tr>\n",
       "      <th>JobSatisfaction</th>\n",
       "      <td>-0.004892</td>\n",
       "      <td>0.030571</td>\n",
       "      <td>-0.003669</td>\n",
       "      <td>-0.011296</td>\n",
       "      <td>-0.006784</td>\n",
       "      <td>-0.071335</td>\n",
       "      <td>-0.021476</td>\n",
       "      <td>-0.001944</td>\n",
       "      <td>1.000000</td>\n",
       "      <td>-0.007157</td>\n",
       "      <td>...</td>\n",
       "      <td>0.002297</td>\n",
       "      <td>-0.012454</td>\n",
       "      <td>0.010690</td>\n",
       "      <td>-0.020185</td>\n",
       "      <td>-0.005779</td>\n",
       "      <td>-0.019459</td>\n",
       "      <td>-0.003803</td>\n",
       "      <td>-0.002305</td>\n",
       "      <td>-0.018214</td>\n",
       "      <td>-0.027656</td>\n",
       "    </tr>\n",
       "    <tr>\n",
       "      <th>MonthlyIncome</th>\n",
       "      <td>0.497855</td>\n",
       "      <td>0.007707</td>\n",
       "      <td>-0.017014</td>\n",
       "      <td>0.094961</td>\n",
       "      <td>-0.006259</td>\n",
       "      <td>-0.015794</td>\n",
       "      <td>-0.015271</td>\n",
       "      <td>0.950300</td>\n",
       "      <td>-0.007157</td>\n",
       "      <td>1.000000</td>\n",
       "      <td>...</td>\n",
       "      <td>-0.017120</td>\n",
       "      <td>0.025873</td>\n",
       "      <td>0.005408</td>\n",
       "      <td>0.772893</td>\n",
       "      <td>-0.021736</td>\n",
       "      <td>0.030683</td>\n",
       "      <td>0.514285</td>\n",
       "      <td>0.363818</td>\n",
       "      <td>0.344978</td>\n",
       "      <td>0.344079</td>\n",
       "    </tr>\n",
       "    <tr>\n",
       "      <th>MonthlyRate</th>\n",
       "      <td>0.028051</td>\n",
       "      <td>-0.032182</td>\n",
       "      <td>0.027473</td>\n",
       "      <td>-0.026084</td>\n",
       "      <td>0.037600</td>\n",
       "      <td>-0.015297</td>\n",
       "      <td>-0.016322</td>\n",
       "      <td>0.039563</td>\n",
       "      <td>0.000644</td>\n",
       "      <td>0.034814</td>\n",
       "      <td>...</td>\n",
       "      <td>-0.009811</td>\n",
       "      <td>-0.004085</td>\n",
       "      <td>-0.034323</td>\n",
       "      <td>0.026442</td>\n",
       "      <td>0.001467</td>\n",
       "      <td>0.007963</td>\n",
       "      <td>-0.023655</td>\n",
       "      <td>-0.012815</td>\n",
       "      <td>0.001567</td>\n",
       "      <td>-0.036746</td>\n",
       "    </tr>\n",
       "    <tr>\n",
       "      <th>NumCompaniesWorked</th>\n",
       "      <td>0.299635</td>\n",
       "      <td>0.038153</td>\n",
       "      <td>-0.029251</td>\n",
       "      <td>0.126317</td>\n",
       "      <td>0.012594</td>\n",
       "      <td>0.022157</td>\n",
       "      <td>0.015012</td>\n",
       "      <td>0.142501</td>\n",
       "      <td>-0.055699</td>\n",
       "      <td>0.149515</td>\n",
       "      <td>...</td>\n",
       "      <td>-0.014095</td>\n",
       "      <td>0.052733</td>\n",
       "      <td>0.030075</td>\n",
       "      <td>0.237639</td>\n",
       "      <td>-0.066054</td>\n",
       "      <td>-0.008366</td>\n",
       "      <td>-0.118421</td>\n",
       "      <td>-0.090754</td>\n",
       "      <td>-0.036814</td>\n",
       "      <td>-0.110319</td>\n",
       "    </tr>\n",
       "    <tr>\n",
       "      <th>PercentSalaryHike</th>\n",
       "      <td>0.003634</td>\n",
       "      <td>0.022704</td>\n",
       "      <td>0.040235</td>\n",
       "      <td>-0.011111</td>\n",
       "      <td>-0.031701</td>\n",
       "      <td>-0.009062</td>\n",
       "      <td>-0.017205</td>\n",
       "      <td>-0.034730</td>\n",
       "      <td>0.020002</td>\n",
       "      <td>-0.027269</td>\n",
       "      <td>...</td>\n",
       "      <td>0.773550</td>\n",
       "      <td>-0.040490</td>\n",
       "      <td>0.007528</td>\n",
       "      <td>-0.020608</td>\n",
       "      <td>-0.005221</td>\n",
       "      <td>-0.003280</td>\n",
       "      <td>-0.035991</td>\n",
       "      <td>-0.001520</td>\n",
       "      <td>-0.022154</td>\n",
       "      <td>-0.011985</td>\n",
       "    </tr>\n",
       "    <tr>\n",
       "      <th>PerformanceRating</th>\n",
       "      <td>0.001904</td>\n",
       "      <td>0.000473</td>\n",
       "      <td>0.027110</td>\n",
       "      <td>-0.024539</td>\n",
       "      <td>-0.029548</td>\n",
       "      <td>-0.002172</td>\n",
       "      <td>-0.029071</td>\n",
       "      <td>-0.021222</td>\n",
       "      <td>0.002297</td>\n",
       "      <td>-0.017120</td>\n",
       "      <td>...</td>\n",
       "      <td>1.000000</td>\n",
       "      <td>-0.031351</td>\n",
       "      <td>0.003506</td>\n",
       "      <td>0.006744</td>\n",
       "      <td>-0.015579</td>\n",
       "      <td>0.002572</td>\n",
       "      <td>0.003435</td>\n",
       "      <td>0.034986</td>\n",
       "      <td>0.017896</td>\n",
       "      <td>0.022827</td>\n",
       "    </tr>\n",
       "    <tr>\n",
       "      <th>RelationshipSatisfaction</th>\n",
       "      <td>0.053535</td>\n",
       "      <td>0.007846</td>\n",
       "      <td>0.006557</td>\n",
       "      <td>-0.009118</td>\n",
       "      <td>0.007665</td>\n",
       "      <td>0.001330</td>\n",
       "      <td>0.034297</td>\n",
       "      <td>0.021642</td>\n",
       "      <td>-0.012454</td>\n",
       "      <td>0.025873</td>\n",
       "      <td>...</td>\n",
       "      <td>-0.031351</td>\n",
       "      <td>1.000000</td>\n",
       "      <td>-0.045952</td>\n",
       "      <td>0.024054</td>\n",
       "      <td>0.002497</td>\n",
       "      <td>0.019604</td>\n",
       "      <td>0.019367</td>\n",
       "      <td>-0.015123</td>\n",
       "      <td>0.033493</td>\n",
       "      <td>-0.000867</td>\n",
       "    </tr>\n",
       "    <tr>\n",
       "      <th>StockOptionLevel</th>\n",
       "      <td>0.037510</td>\n",
       "      <td>0.042143</td>\n",
       "      <td>0.044872</td>\n",
       "      <td>0.018422</td>\n",
       "      <td>0.003432</td>\n",
       "      <td>0.050263</td>\n",
       "      <td>0.021523</td>\n",
       "      <td>0.013984</td>\n",
       "      <td>0.010690</td>\n",
       "      <td>0.005408</td>\n",
       "      <td>...</td>\n",
       "      <td>0.003506</td>\n",
       "      <td>-0.045952</td>\n",
       "      <td>1.000000</td>\n",
       "      <td>0.010136</td>\n",
       "      <td>0.011274</td>\n",
       "      <td>0.004129</td>\n",
       "      <td>0.015058</td>\n",
       "      <td>0.050818</td>\n",
       "      <td>0.014352</td>\n",
       "      <td>0.024698</td>\n",
       "    </tr>\n",
       "    <tr>\n",
       "      <th>TotalWorkingYears</th>\n",
       "      <td>0.680381</td>\n",
       "      <td>0.014515</td>\n",
       "      <td>0.004628</td>\n",
       "      <td>0.148280</td>\n",
       "      <td>-0.002693</td>\n",
       "      <td>-0.002334</td>\n",
       "      <td>-0.005533</td>\n",
       "      <td>0.782208</td>\n",
       "      <td>-0.020185</td>\n",
       "      <td>0.772893</td>\n",
       "      <td>...</td>\n",
       "      <td>0.006744</td>\n",
       "      <td>0.024054</td>\n",
       "      <td>0.010136</td>\n",
       "      <td>1.000000</td>\n",
       "      <td>-0.035662</td>\n",
       "      <td>0.001008</td>\n",
       "      <td>0.628133</td>\n",
       "      <td>0.460365</td>\n",
       "      <td>0.404858</td>\n",
       "      <td>0.459188</td>\n",
       "    </tr>\n",
       "    <tr>\n",
       "      <th>TrainingTimesLastYear</th>\n",
       "      <td>-0.019621</td>\n",
       "      <td>0.002453</td>\n",
       "      <td>-0.036942</td>\n",
       "      <td>-0.025100</td>\n",
       "      <td>-0.019359</td>\n",
       "      <td>-0.008548</td>\n",
       "      <td>-0.015338</td>\n",
       "      <td>-0.018191</td>\n",
       "      <td>-0.005779</td>\n",
       "      <td>-0.021736</td>\n",
       "      <td>...</td>\n",
       "      <td>-0.015579</td>\n",
       "      <td>0.002497</td>\n",
       "      <td>0.011274</td>\n",
       "      <td>-0.035662</td>\n",
       "      <td>1.000000</td>\n",
       "      <td>0.028072</td>\n",
       "      <td>0.003569</td>\n",
       "      <td>-0.005738</td>\n",
       "      <td>-0.002067</td>\n",
       "      <td>-0.004096</td>\n",
       "    </tr>\n",
       "    <tr>\n",
       "      <th>WorkLifeBalance</th>\n",
       "      <td>-0.021490</td>\n",
       "      <td>-0.037848</td>\n",
       "      <td>-0.026556</td>\n",
       "      <td>0.009819</td>\n",
       "      <td>0.027627</td>\n",
       "      <td>-0.004607</td>\n",
       "      <td>-0.014617</td>\n",
       "      <td>0.037818</td>\n",
       "      <td>-0.019459</td>\n",
       "      <td>0.030683</td>\n",
       "      <td>...</td>\n",
       "      <td>0.002572</td>\n",
       "      <td>0.019604</td>\n",
       "      <td>0.004129</td>\n",
       "      <td>0.001008</td>\n",
       "      <td>0.028072</td>\n",
       "      <td>1.000000</td>\n",
       "      <td>0.012089</td>\n",
       "      <td>0.049856</td>\n",
       "      <td>0.008941</td>\n",
       "      <td>0.002759</td>\n",
       "    </tr>\n",
       "    <tr>\n",
       "      <th>YearsAtCompany</th>\n",
       "      <td>0.311309</td>\n",
       "      <td>-0.034055</td>\n",
       "      <td>0.009508</td>\n",
       "      <td>0.069114</td>\n",
       "      <td>0.001458</td>\n",
       "      <td>-0.019582</td>\n",
       "      <td>-0.021355</td>\n",
       "      <td>0.534739</td>\n",
       "      <td>-0.003803</td>\n",
       "      <td>0.514285</td>\n",
       "      <td>...</td>\n",
       "      <td>0.003435</td>\n",
       "      <td>0.019367</td>\n",
       "      <td>0.015058</td>\n",
       "      <td>0.628133</td>\n",
       "      <td>0.003569</td>\n",
       "      <td>0.012089</td>\n",
       "      <td>1.000000</td>\n",
       "      <td>0.758754</td>\n",
       "      <td>0.618409</td>\n",
       "      <td>0.769212</td>\n",
       "    </tr>\n",
       "    <tr>\n",
       "      <th>YearsInCurrentRole</th>\n",
       "      <td>0.212901</td>\n",
       "      <td>0.009932</td>\n",
       "      <td>0.018845</td>\n",
       "      <td>0.060236</td>\n",
       "      <td>0.018007</td>\n",
       "      <td>-0.024106</td>\n",
       "      <td>0.008717</td>\n",
       "      <td>0.389447</td>\n",
       "      <td>-0.002305</td>\n",
       "      <td>0.363818</td>\n",
       "      <td>...</td>\n",
       "      <td>0.034986</td>\n",
       "      <td>-0.015123</td>\n",
       "      <td>0.050818</td>\n",
       "      <td>0.460365</td>\n",
       "      <td>-0.005738</td>\n",
       "      <td>0.049856</td>\n",
       "      <td>0.758754</td>\n",
       "      <td>1.000000</td>\n",
       "      <td>0.548056</td>\n",
       "      <td>0.714365</td>\n",
       "    </tr>\n",
       "    <tr>\n",
       "      <th>YearsSinceLastPromotion</th>\n",
       "      <td>0.216513</td>\n",
       "      <td>-0.033229</td>\n",
       "      <td>0.010029</td>\n",
       "      <td>0.054254</td>\n",
       "      <td>0.016194</td>\n",
       "      <td>-0.026716</td>\n",
       "      <td>-0.024184</td>\n",
       "      <td>0.353885</td>\n",
       "      <td>-0.018214</td>\n",
       "      <td>0.344978</td>\n",
       "      <td>...</td>\n",
       "      <td>0.017896</td>\n",
       "      <td>0.033493</td>\n",
       "      <td>0.014352</td>\n",
       "      <td>0.404858</td>\n",
       "      <td>-0.002067</td>\n",
       "      <td>0.008941</td>\n",
       "      <td>0.618409</td>\n",
       "      <td>0.548056</td>\n",
       "      <td>1.000000</td>\n",
       "      <td>0.510224</td>\n",
       "    </tr>\n",
       "    <tr>\n",
       "      <th>YearsWithCurrManager</th>\n",
       "      <td>0.202089</td>\n",
       "      <td>-0.026363</td>\n",
       "      <td>0.014406</td>\n",
       "      <td>0.069065</td>\n",
       "      <td>-0.004999</td>\n",
       "      <td>-0.020123</td>\n",
       "      <td>0.025976</td>\n",
       "      <td>0.375281</td>\n",
       "      <td>-0.027656</td>\n",
       "      <td>0.344079</td>\n",
       "      <td>...</td>\n",
       "      <td>0.022827</td>\n",
       "      <td>-0.000867</td>\n",
       "      <td>0.024698</td>\n",
       "      <td>0.459188</td>\n",
       "      <td>-0.004096</td>\n",
       "      <td>0.002759</td>\n",
       "      <td>0.769212</td>\n",
       "      <td>0.714365</td>\n",
       "      <td>0.510224</td>\n",
       "      <td>1.000000</td>\n",
       "    </tr>\n",
       "  </tbody>\n",
       "</table>\n",
       "<p>23 rows × 23 columns</p>\n",
       "</div>"
      ],
      "text/plain": [
       "                               Age  DailyRate  DistanceFromHome  Education  \\\n",
       "Age                       1.000000   0.010661         -0.001686   0.208034   \n",
       "DailyRate                 0.010661   1.000000         -0.004985  -0.016806   \n",
       "DistanceFromHome         -0.001686  -0.004985          1.000000   0.021042   \n",
       "Education                 0.208034  -0.016806          0.021042   1.000000   \n",
       "EnvironmentSatisfaction   0.010146   0.018355         -0.016075  -0.027128   \n",
       "HourlyRate                0.024287   0.023381          0.031131   0.016775   \n",
       "JobInvolvement            0.029820   0.046135          0.008783   0.042438   \n",
       "JobLevel                  0.509604   0.002966          0.005303   0.101589   \n",
       "JobSatisfaction          -0.004892   0.030571         -0.003669  -0.011296   \n",
       "MonthlyIncome             0.497855   0.007707         -0.017014   0.094961   \n",
       "MonthlyRate               0.028051  -0.032182          0.027473  -0.026084   \n",
       "NumCompaniesWorked        0.299635   0.038153         -0.029251   0.126317   \n",
       "PercentSalaryHike         0.003634   0.022704          0.040235  -0.011111   \n",
       "PerformanceRating         0.001904   0.000473          0.027110  -0.024539   \n",
       "RelationshipSatisfaction  0.053535   0.007846          0.006557  -0.009118   \n",
       "StockOptionLevel          0.037510   0.042143          0.044872   0.018422   \n",
       "TotalWorkingYears         0.680381   0.014515          0.004628   0.148280   \n",
       "TrainingTimesLastYear    -0.019621   0.002453         -0.036942  -0.025100   \n",
       "WorkLifeBalance          -0.021490  -0.037848         -0.026556   0.009819   \n",
       "YearsAtCompany            0.311309  -0.034055          0.009508   0.069114   \n",
       "YearsInCurrentRole        0.212901   0.009932          0.018845   0.060236   \n",
       "YearsSinceLastPromotion   0.216513  -0.033229          0.010029   0.054254   \n",
       "YearsWithCurrManager      0.202089  -0.026363          0.014406   0.069065   \n",
       "\n",
       "                          EnvironmentSatisfaction  HourlyRate  JobInvolvement  \\\n",
       "Age                                      0.010146    0.024287        0.029820   \n",
       "DailyRate                                0.018355    0.023381        0.046135   \n",
       "DistanceFromHome                        -0.016075    0.031131        0.008783   \n",
       "Education                               -0.027128    0.016775        0.042438   \n",
       "EnvironmentSatisfaction                  1.000000   -0.049857       -0.008278   \n",
       "HourlyRate                              -0.049857    1.000000        0.042861   \n",
       "JobInvolvement                          -0.008278    0.042861        1.000000   \n",
       "JobLevel                                 0.001212   -0.027853       -0.012630   \n",
       "JobSatisfaction                         -0.006784   -0.071335       -0.021476   \n",
       "MonthlyIncome                           -0.006259   -0.015794       -0.015271   \n",
       "MonthlyRate                              0.037600   -0.015297       -0.016322   \n",
       "NumCompaniesWorked                       0.012594    0.022157        0.015012   \n",
       "PercentSalaryHike                       -0.031701   -0.009062       -0.017205   \n",
       "PerformanceRating                       -0.029548   -0.002172       -0.029071   \n",
       "RelationshipSatisfaction                 0.007665    0.001330        0.034297   \n",
       "StockOptionLevel                         0.003432    0.050263        0.021523   \n",
       "TotalWorkingYears                       -0.002693   -0.002334       -0.005533   \n",
       "TrainingTimesLastYear                   -0.019359   -0.008548       -0.015338   \n",
       "WorkLifeBalance                          0.027627   -0.004607       -0.014617   \n",
       "YearsAtCompany                           0.001458   -0.019582       -0.021355   \n",
       "YearsInCurrentRole                       0.018007   -0.024106        0.008717   \n",
       "YearsSinceLastPromotion                  0.016194   -0.026716       -0.024184   \n",
       "YearsWithCurrManager                    -0.004999   -0.020123        0.025976   \n",
       "\n",
       "                          JobLevel  JobSatisfaction  MonthlyIncome  ...  \\\n",
       "Age                       0.509604        -0.004892       0.497855  ...   \n",
       "DailyRate                 0.002966         0.030571       0.007707  ...   \n",
       "DistanceFromHome          0.005303        -0.003669      -0.017014  ...   \n",
       "Education                 0.101589        -0.011296       0.094961  ...   \n",
       "EnvironmentSatisfaction   0.001212        -0.006784      -0.006259  ...   \n",
       "HourlyRate               -0.027853        -0.071335      -0.015794  ...   \n",
       "JobInvolvement           -0.012630        -0.021476      -0.015271  ...   \n",
       "JobLevel                  1.000000        -0.001944       0.950300  ...   \n",
       "JobSatisfaction          -0.001944         1.000000      -0.007157  ...   \n",
       "MonthlyIncome             0.950300        -0.007157       1.000000  ...   \n",
       "MonthlyRate               0.039563         0.000644       0.034814  ...   \n",
       "NumCompaniesWorked        0.142501        -0.055699       0.149515  ...   \n",
       "PercentSalaryHike        -0.034730         0.020002      -0.027269  ...   \n",
       "PerformanceRating        -0.021222         0.002297      -0.017120  ...   \n",
       "RelationshipSatisfaction  0.021642        -0.012454       0.025873  ...   \n",
       "StockOptionLevel          0.013984         0.010690       0.005408  ...   \n",
       "TotalWorkingYears         0.782208        -0.020185       0.772893  ...   \n",
       "TrainingTimesLastYear    -0.018191        -0.005779      -0.021736  ...   \n",
       "WorkLifeBalance           0.037818        -0.019459       0.030683  ...   \n",
       "YearsAtCompany            0.534739        -0.003803       0.514285  ...   \n",
       "YearsInCurrentRole        0.389447        -0.002305       0.363818  ...   \n",
       "YearsSinceLastPromotion   0.353885        -0.018214       0.344978  ...   \n",
       "YearsWithCurrManager      0.375281        -0.027656       0.344079  ...   \n",
       "\n",
       "                          PerformanceRating  RelationshipSatisfaction  \\\n",
       "Age                                0.001904                  0.053535   \n",
       "DailyRate                          0.000473                  0.007846   \n",
       "DistanceFromHome                   0.027110                  0.006557   \n",
       "Education                         -0.024539                 -0.009118   \n",
       "EnvironmentSatisfaction           -0.029548                  0.007665   \n",
       "HourlyRate                        -0.002172                  0.001330   \n",
       "JobInvolvement                    -0.029071                  0.034297   \n",
       "JobLevel                          -0.021222                  0.021642   \n",
       "JobSatisfaction                    0.002297                 -0.012454   \n",
       "MonthlyIncome                     -0.017120                  0.025873   \n",
       "MonthlyRate                       -0.009811                 -0.004085   \n",
       "NumCompaniesWorked                -0.014095                  0.052733   \n",
       "PercentSalaryHike                  0.773550                 -0.040490   \n",
       "PerformanceRating                  1.000000                 -0.031351   \n",
       "RelationshipSatisfaction          -0.031351                  1.000000   \n",
       "StockOptionLevel                   0.003506                 -0.045952   \n",
       "TotalWorkingYears                  0.006744                  0.024054   \n",
       "TrainingTimesLastYear             -0.015579                  0.002497   \n",
       "WorkLifeBalance                    0.002572                  0.019604   \n",
       "YearsAtCompany                     0.003435                  0.019367   \n",
       "YearsInCurrentRole                 0.034986                 -0.015123   \n",
       "YearsSinceLastPromotion            0.017896                  0.033493   \n",
       "YearsWithCurrManager               0.022827                 -0.000867   \n",
       "\n",
       "                          StockOptionLevel  TotalWorkingYears  \\\n",
       "Age                               0.037510           0.680381   \n",
       "DailyRate                         0.042143           0.014515   \n",
       "DistanceFromHome                  0.044872           0.004628   \n",
       "Education                         0.018422           0.148280   \n",
       "EnvironmentSatisfaction           0.003432          -0.002693   \n",
       "HourlyRate                        0.050263          -0.002334   \n",
       "JobInvolvement                    0.021523          -0.005533   \n",
       "JobLevel                          0.013984           0.782208   \n",
       "JobSatisfaction                   0.010690          -0.020185   \n",
       "MonthlyIncome                     0.005408           0.772893   \n",
       "MonthlyRate                      -0.034323           0.026442   \n",
       "NumCompaniesWorked                0.030075           0.237639   \n",
       "PercentSalaryHike                 0.007528          -0.020608   \n",
       "PerformanceRating                 0.003506           0.006744   \n",
       "RelationshipSatisfaction         -0.045952           0.024054   \n",
       "StockOptionLevel                  1.000000           0.010136   \n",
       "TotalWorkingYears                 0.010136           1.000000   \n",
       "TrainingTimesLastYear             0.011274          -0.035662   \n",
       "WorkLifeBalance                   0.004129           0.001008   \n",
       "YearsAtCompany                    0.015058           0.628133   \n",
       "YearsInCurrentRole                0.050818           0.460365   \n",
       "YearsSinceLastPromotion           0.014352           0.404858   \n",
       "YearsWithCurrManager              0.024698           0.459188   \n",
       "\n",
       "                          TrainingTimesLastYear  WorkLifeBalance  \\\n",
       "Age                                   -0.019621        -0.021490   \n",
       "DailyRate                              0.002453        -0.037848   \n",
       "DistanceFromHome                      -0.036942        -0.026556   \n",
       "Education                             -0.025100         0.009819   \n",
       "EnvironmentSatisfaction               -0.019359         0.027627   \n",
       "HourlyRate                            -0.008548        -0.004607   \n",
       "JobInvolvement                        -0.015338        -0.014617   \n",
       "JobLevel                              -0.018191         0.037818   \n",
       "JobSatisfaction                       -0.005779        -0.019459   \n",
       "MonthlyIncome                         -0.021736         0.030683   \n",
       "MonthlyRate                            0.001467         0.007963   \n",
       "NumCompaniesWorked                    -0.066054        -0.008366   \n",
       "PercentSalaryHike                     -0.005221        -0.003280   \n",
       "PerformanceRating                     -0.015579         0.002572   \n",
       "RelationshipSatisfaction               0.002497         0.019604   \n",
       "StockOptionLevel                       0.011274         0.004129   \n",
       "TotalWorkingYears                     -0.035662         0.001008   \n",
       "TrainingTimesLastYear                  1.000000         0.028072   \n",
       "WorkLifeBalance                        0.028072         1.000000   \n",
       "YearsAtCompany                         0.003569         0.012089   \n",
       "YearsInCurrentRole                    -0.005738         0.049856   \n",
       "YearsSinceLastPromotion               -0.002067         0.008941   \n",
       "YearsWithCurrManager                  -0.004096         0.002759   \n",
       "\n",
       "                          YearsAtCompany  YearsInCurrentRole  \\\n",
       "Age                             0.311309            0.212901   \n",
       "DailyRate                      -0.034055            0.009932   \n",
       "DistanceFromHome                0.009508            0.018845   \n",
       "Education                       0.069114            0.060236   \n",
       "EnvironmentSatisfaction         0.001458            0.018007   \n",
       "HourlyRate                     -0.019582           -0.024106   \n",
       "JobInvolvement                 -0.021355            0.008717   \n",
       "JobLevel                        0.534739            0.389447   \n",
       "JobSatisfaction                -0.003803           -0.002305   \n",
       "MonthlyIncome                   0.514285            0.363818   \n",
       "MonthlyRate                    -0.023655           -0.012815   \n",
       "NumCompaniesWorked             -0.118421           -0.090754   \n",
       "PercentSalaryHike              -0.035991           -0.001520   \n",
       "PerformanceRating               0.003435            0.034986   \n",
       "RelationshipSatisfaction        0.019367           -0.015123   \n",
       "StockOptionLevel                0.015058            0.050818   \n",
       "TotalWorkingYears               0.628133            0.460365   \n",
       "TrainingTimesLastYear           0.003569           -0.005738   \n",
       "WorkLifeBalance                 0.012089            0.049856   \n",
       "YearsAtCompany                  1.000000            0.758754   \n",
       "YearsInCurrentRole              0.758754            1.000000   \n",
       "YearsSinceLastPromotion         0.618409            0.548056   \n",
       "YearsWithCurrManager            0.769212            0.714365   \n",
       "\n",
       "                          YearsSinceLastPromotion  YearsWithCurrManager  \n",
       "Age                                      0.216513              0.202089  \n",
       "DailyRate                               -0.033229             -0.026363  \n",
       "DistanceFromHome                         0.010029              0.014406  \n",
       "Education                                0.054254              0.069065  \n",
       "EnvironmentSatisfaction                  0.016194             -0.004999  \n",
       "HourlyRate                              -0.026716             -0.020123  \n",
       "JobInvolvement                          -0.024184              0.025976  \n",
       "JobLevel                                 0.353885              0.375281  \n",
       "JobSatisfaction                         -0.018214             -0.027656  \n",
       "MonthlyIncome                            0.344978              0.344079  \n",
       "MonthlyRate                              0.001567             -0.036746  \n",
       "NumCompaniesWorked                      -0.036814             -0.110319  \n",
       "PercentSalaryHike                       -0.022154             -0.011985  \n",
       "PerformanceRating                        0.017896              0.022827  \n",
       "RelationshipSatisfaction                 0.033493             -0.000867  \n",
       "StockOptionLevel                         0.014352              0.024698  \n",
       "TotalWorkingYears                        0.404858              0.459188  \n",
       "TrainingTimesLastYear                   -0.002067             -0.004096  \n",
       "WorkLifeBalance                          0.008941              0.002759  \n",
       "YearsAtCompany                           0.618409              0.769212  \n",
       "YearsInCurrentRole                       0.548056              0.714365  \n",
       "YearsSinceLastPromotion                  1.000000              0.510224  \n",
       "YearsWithCurrManager                     0.510224              1.000000  \n",
       "\n",
       "[23 rows x 23 columns]"
      ]
     },
     "execution_count": 4,
     "metadata": {},
     "output_type": "execute_result"
    }
   ],
   "source": [
    "correlation_matrix = dataset.drop(['Attrition','Over18', 'StandardHours', 'EmployeeCount','EmployeeNumber'], axis=1).corr()\n",
    "correlation_matrix"
   ]
  },
  {
   "cell_type": "code",
   "execution_count": 5,
   "id": "76e5ddb6",
   "metadata": {},
   "outputs": [
    {
     "data": {
      "image/png": "[encoded data removed]",
      "text/plain": [
       "<Figure size 864x864 with 2 Axes>"
      ]
     },
     "metadata": {
      "needs_background": "light"
     },
     "output_type": "display_data"
    }
   ],
   "source": [
    "import seaborn as sns\n",
    "fig, ax = plt.subplots(figsize = (12,12))\n",
    "sns.heatmap(correlation_matrix, vmin=-0.2,cmap='YlGnBu')\n",
    "ax.set_title('Feature Correlations')\n",
    "plt.show(fig)"
   ]
  },
  {
   "cell_type": "markdown",
   "id": "151be623",
   "metadata": {},
   "source": [
    "The heatmap helps understand the dependence of the features on one another. \n"
   ]
  },
  {
   "cell_type": "markdown",
   "id": "7ab21f69",
   "metadata": {},
   "source": [
    "### Data Preprocessing"
   ]
  },
  {
   "cell_type": "markdown",
   "id": "37b95cc1",
   "metadata": {},
   "source": [
    "#### Remove irrelevant columns"
   ]
  },
  {
   "cell_type": "code",
   "execution_count": 6,
   "id": "c41d42e7",
   "metadata": {},
   "outputs": [],
   "source": [
    "irrelevant = ['Over18', 'StandardHours', 'EmployeeCount','EmployeeNumber']\n",
    "dataset=dataset.drop(columns=irrelevant)"
   ]
  },
  {
   "cell_type": "code",
   "execution_count": 7,
   "id": "b7db9089",
   "metadata": {},
   "outputs": [
    {
     "data": {
      "text/plain": [
       "Index(['Age', 'Attrition', 'BusinessTravel', 'DailyRate', 'Department',\n",
       "       'DistanceFromHome', 'Education', 'EducationField',\n",
       "       'EnvironmentSatisfaction', 'Gender', 'HourlyRate', 'JobInvolvement',\n",
       "       'JobLevel', 'JobRole', 'JobSatisfaction', 'MaritalStatus',\n",
       "       'MonthlyIncome', 'MonthlyRate', 'NumCompaniesWorked', 'OverTime',\n",
       "       'PercentSalaryHike', 'PerformanceRating', 'RelationshipSatisfaction',\n",
       "       'StockOptionLevel', 'TotalWorkingYears', 'TrainingTimesLastYear',\n",
       "       'WorkLifeBalance', 'YearsAtCompany', 'YearsInCurrentRole',\n",
       "       'YearsSinceLastPromotion', 'YearsWithCurrManager'],\n",
       "      dtype='object')"
      ]
     },
     "execution_count": 7,
     "metadata": {},
     "output_type": "execute_result"
    }
   ],
   "source": [
    "dataset.columns"
   ]
  },
  {
   "cell_type": "markdown",
   "id": "0142cda8",
   "metadata": {},
   "source": [
    "#### Check for missing values"
   ]
  },
  {
   "cell_type": "code",
   "execution_count": 8,
   "id": "dc8772b1",
   "metadata": {},
   "outputs": [
    {
     "data": {
      "text/plain": [
       "Age                         0\n",
       "Attrition                   0\n",
       "BusinessTravel              0\n",
       "DailyRate                   0\n",
       "Department                  0\n",
       "DistanceFromHome            0\n",
       "Education                   0\n",
       "EducationField              0\n",
       "EnvironmentSatisfaction     0\n",
       "Gender                      0\n",
       "HourlyRate                  0\n",
       "JobInvolvement              0\n",
       "JobLevel                    0\n",
       "JobRole                     0\n",
       "JobSatisfaction             0\n",
       "MaritalStatus               0\n",
       "MonthlyIncome               0\n",
       "MonthlyRate                 0\n",
       "NumCompaniesWorked          0\n",
       "OverTime                    0\n",
       "PercentSalaryHike           0\n",
       "PerformanceRating           0\n",
       "RelationshipSatisfaction    0\n",
       "StockOptionLevel            0\n",
       "TotalWorkingYears           0\n",
       "TrainingTimesLastYear       0\n",
       "WorkLifeBalance             0\n",
       "YearsAtCompany              0\n",
       "YearsInCurrentRole          0\n",
       "YearsSinceLastPromotion     0\n",
       "YearsWithCurrManager        0\n",
       "dtype: int64"
      ]
     },
     "execution_count": 8,
     "metadata": {},
     "output_type": "execute_result"
    }
   ],
   "source": [
    "dataset.isnull().sum()"
   ]
  },
  {
   "cell_type": "markdown",
   "id": "9d9356c8",
   "metadata": {},
   "source": [
    "No missing values."
   ]
  },
  {
   "cell_type": "markdown",
   "id": "4bcc3e18",
   "metadata": {},
   "source": [
    "#### Check for Numerical and Categorical Columns"
   ]
  },
  {
   "cell_type": "code",
   "execution_count": 9,
   "id": "25cf264d",
   "metadata": {},
   "outputs": [
    {
     "data": {
      "text/plain": [
       "Age                          int64\n",
       "Attrition                   object\n",
       "BusinessTravel              object\n",
       "DailyRate                    int64\n",
       "Department                  object\n",
       "DistanceFromHome             int64\n",
       "Education                    int64\n",
       "EducationField              object\n",
       "EnvironmentSatisfaction      int64\n",
       "Gender                      object\n",
       "HourlyRate                   int64\n",
       "JobInvolvement               int64\n",
       "JobLevel                     int64\n",
       "JobRole                     object\n",
       "JobSatisfaction              int64\n",
       "MaritalStatus               object\n",
       "MonthlyIncome                int64\n",
       "MonthlyRate                  int64\n",
       "NumCompaniesWorked           int64\n",
       "OverTime                    object\n",
       "PercentSalaryHike            int64\n",
       "PerformanceRating            int64\n",
       "RelationshipSatisfaction     int64\n",
       "StockOptionLevel             int64\n",
       "TotalWorkingYears            int64\n",
       "TrainingTimesLastYear        int64\n",
       "WorkLifeBalance              int64\n",
       "YearsAtCompany               int64\n",
       "YearsInCurrentRole           int64\n",
       "YearsSinceLastPromotion      int64\n",
       "YearsWithCurrManager         int64\n",
       "dtype: object"
      ]
     },
     "execution_count": 9,
     "metadata": {},
     "output_type": "execute_result"
    }
   ],
   "source": [
    "dataset.dtypes"
   ]
  },
  {
   "cell_type": "code",
   "execution_count": 10,
   "id": "3b0ad9b9",
   "metadata": {},
   "outputs": [
    {
     "data": {
      "text/plain": [
       "{'Age',\n",
       " 'DailyRate',\n",
       " 'DistanceFromHome',\n",
       " 'Education',\n",
       " 'EnvironmentSatisfaction',\n",
       " 'HourlyRate',\n",
       " 'JobInvolvement',\n",
       " 'JobLevel',\n",
       " 'JobSatisfaction',\n",
       " 'MonthlyIncome',\n",
       " 'MonthlyRate',\n",
       " 'NumCompaniesWorked',\n",
       " 'PercentSalaryHike',\n",
       " 'PerformanceRating',\n",
       " 'RelationshipSatisfaction',\n",
       " 'StockOptionLevel',\n",
       " 'TotalWorkingYears',\n",
       " 'TrainingTimesLastYear',\n",
       " 'WorkLifeBalance',\n",
       " 'YearsAtCompany',\n",
       " 'YearsInCurrentRole',\n",
       " 'YearsSinceLastPromotion',\n",
       " 'YearsWithCurrManager'}"
      ]
     },
     "execution_count": 10,
     "metadata": {},
     "output_type": "execute_result"
    }
   ],
   "source": [
    "numerical_columns = set(dataset.dtypes[dataset.dtypes=='int64'].index.values)\n",
    "numerical_columns"
   ]
  },
  {
   "cell_type": "code",
   "execution_count": 11,
   "id": "9f0dbc27",
   "metadata": {},
   "outputs": [
    {
     "name": "stdout",
     "output_type": "stream",
     "text": [
      "Gender : ['Female' 'Male'] index: 9\n",
      "MaritalStatus : ['Single' 'Married' 'Divorced'] index: 15\n",
      "JobRole : ['Sales Executive' 'Research Scientist' 'Laboratory Technician'\n",
      " 'Manufacturing Director' 'Healthcare Representative' 'Manager'\n",
      " 'Sales Representative' 'Research Director' 'Human Resources'] index: 13\n",
      "EducationField : ['Life Sciences' 'Other' 'Medical' 'Marketing' 'Technical Degree'\n",
      " 'Human Resources'] index: 7\n",
      "Attrition : ['Yes' 'No'] index: 1\n",
      "OverTime : ['Yes' 'No'] index: 19\n",
      "BusinessTravel : ['Travel_Rarely' 'Travel_Frequently' 'Non-Travel'] index: 2\n",
      "Department : ['Sales' 'Research & Development' 'Human Resources'] index: 4\n"
     ]
    }
   ],
   "source": [
    "categorical_columns = set(dataset.dtypes[dataset.dtypes=='object'].index.values)\n",
    "for i in categorical_columns:\n",
    "    print(i,':',dataset[i].unique(), 'index:',dataset.columns.get_loc(i) )"
   ]
  },
  {
   "cell_type": "markdown",
   "id": "6b98d9f4",
   "metadata": {},
   "source": [
    "#### Handle categorical data- Label Encoding Categorical Columns"
   ]
  },
  {
   "cell_type": "code",
   "execution_count": 12,
   "id": "8f6fb3b7",
   "metadata": {},
   "outputs": [
    {
     "name": "stdout",
     "output_type": "stream",
     "text": [
      "Label Encoding of Gender :\n",
      "Counter({'Male': 882, 'Female': 588})\n",
      "Counter({1: 882, 0: 588}) \n",
      "\n",
      "Label Encoding of MaritalStatus :\n",
      "Counter({'Married': 673, 'Single': 470, 'Divorced': 327})\n",
      "Counter({1: 673, 2: 470, 0: 327}) \n",
      "\n",
      "Label Encoding of JobRole :\n",
      "Counter({'Sales Executive': 326, 'Research Scientist': 292, 'Laboratory Technician': 259, 'Manufacturing Director': 145, 'Healthcare Representative': 131, 'Manager': 102, 'Sales Representative': 83, 'Research Director': 80, 'Human Resources': 52})\n",
      "Counter({7: 326, 6: 292, 2: 259, 4: 145, 0: 131, 3: 102, 8: 83, 5: 80, 1: 52}) \n",
      "\n",
      "Label Encoding of EducationField :\n",
      "Counter({'Life Sciences': 606, 'Medical': 464, 'Marketing': 159, 'Technical Degree': 132, 'Other': 82, 'Human Resources': 27})\n",
      "Counter({1: 606, 3: 464, 2: 159, 5: 132, 4: 82, 0: 27}) \n",
      "\n",
      "Label Encoding of Attrition :\n",
      "Counter({'No': 1233, 'Yes': 237})\n",
      "Counter({0: 1233, 1: 237}) \n",
      "\n",
      "Label Encoding of OverTime :\n",
      "Counter({'No': 1054, 'Yes': 416})\n",
      "Counter({0: 1054, 1: 416}) \n",
      "\n",
      "Label Encoding of BusinessTravel :\n",
      "Counter({'Travel_Rarely': 1043, 'Travel_Frequently': 277, 'Non-Travel': 150})\n",
      "Counter({2: 1043, 1: 277, 0: 150}) \n",
      "\n",
      "Label Encoding of Department :\n",
      "Counter({'Research & Development': 961, 'Sales': 446, 'Human Resources': 63})\n",
      "Counter({1: 961, 2: 446, 0: 63}) \n",
      "\n"
     ]
    }
   ],
   "source": [
    "from sklearn.preprocessing import LabelEncoder\n",
    "from collections import Counter as c\n",
    "le = LabelEncoder()\n",
    "\n",
    "for i in categorical_columns:\n",
    "    print('Label Encoding of', i,':')\n",
    "    print(c(dataset[i]))\n",
    "    dataset[i] = le.fit_transform(dataset[i])\n",
    "    print(c(dataset[i]),\"\\n\")"
   ]
  },
  {
   "cell_type": "markdown",
   "id": "e5118da7",
   "metadata": {},
   "source": [
    "#### Split into Independent (Features) and Dependent Variables"
   ]
  },
  {
   "cell_type": "code",
   "execution_count": 13,
   "id": "d7946250",
   "metadata": {},
   "outputs": [],
   "source": [
    "X = dataset.iloc[: , dataset.columns != 'Attrition'].values\n",
    "Y = dataset.iloc[: , 1 ].values"
   ]
  },
  {
   "cell_type": "markdown",
   "id": "1b538daf",
   "metadata": {},
   "source": [
    "#### Label Encoding Dependent Variable"
   ]
  },
  {
   "cell_type": "code",
   "execution_count": 14,
   "id": "1b6f6993",
   "metadata": {},
   "outputs": [
    {
     "data": {
      "text/plain": [
       "array([1, 0, 1, ..., 0, 0, 0], dtype=int64)"
      ]
     },
     "execution_count": 14,
     "metadata": {},
     "output_type": "execute_result"
    }
   ],
   "source": [
    "Y= le.fit_transform(Y) \n",
    "Y"
   ]
  },
  {
   "cell_type": "markdown",
   "id": "76dcbf0e",
   "metadata": {},
   "source": [
    "#### Split into train and test sets"
   ]
  },
  {
   "cell_type": "code",
   "execution_count": 15,
   "id": "f5ea59a6",
   "metadata": {},
   "outputs": [],
   "source": [
    "from sklearn.model_selection import train_test_split\n",
    "x_train, x_test, y_train, y_test = train_test_split(X, Y, test_size = 0.2, random_state=2)"
   ]
  },
  {
   "cell_type": "code",
   "execution_count": 16,
   "id": "75fcc564",
   "metadata": {},
   "outputs": [
    {
     "data": {
      "text/plain": [
       "array([[  37,    2, 1372, ...,   12,    5,    7],\n",
       "       [  45,    0, 1195, ...,    8,   11,    8],\n",
       "       [  28,    2, 1157, ...,    2,    2,    2],\n",
       "       ...,\n",
       "       [  44,    2, 1112, ...,    2,    0,    2],\n",
       "       [  32,    2,  929, ...,    7,    0,    8],\n",
       "       [  49,    2,  464, ...,    2,    2,    2]], dtype=int64)"
      ]
     },
     "execution_count": 16,
     "metadata": {},
     "output_type": "execute_result"
    }
   ],
   "source": [
    "x_train"
   ]
  },
  {
   "cell_type": "code",
   "execution_count": 17,
   "id": "d897ce87",
   "metadata": {},
   "outputs": [
    {
     "data": {
      "text/plain": [
       "array([0, 0, 1, ..., 0, 0, 0], dtype=int64)"
      ]
     },
     "execution_count": 17,
     "metadata": {},
     "output_type": "execute_result"
    }
   ],
   "source": [
    "y_train"
   ]
  },
  {
   "cell_type": "code",
   "execution_count": 18,
   "id": "d3a5378e",
   "metadata": {},
   "outputs": [
    {
     "data": {
      "text/plain": [
       "array([[  50,    2,  939, ...,   11,    1,    5],\n",
       "       [  26,    2, 1384, ...,    7,    0,    7],\n",
       "       [  52,    1,  890, ...,    8,    0,    0],\n",
       "       ...,\n",
       "       [  25,    2, 1372, ...,    2,    1,    2],\n",
       "       [  58,    0,  390, ...,    3,    1,    2],\n",
       "       [  39,    1, 1218, ...,    8,    1,    6]], dtype=int64)"
      ]
     },
     "execution_count": 18,
     "metadata": {},
     "output_type": "execute_result"
    }
   ],
   "source": [
    "x_test"
   ]
  },
  {
   "cell_type": "code",
   "execution_count": 19,
   "id": "42ddaf80",
   "metadata": {},
   "outputs": [
    {
     "data": {
      "text/plain": [
       "array([0, 0, 0, 0, 0, 0, 1, 0, 0, 0, 0, 1, 0, 0, 0, 0, 0, 0, 0, 0, 0, 0,\n",
       "       0, 1, 0, 0, 0, 0, 0, 0, 0, 0, 0, 0, 0, 1, 0, 0, 0, 0, 0, 0, 0, 0,\n",
       "       0, 0, 1, 0, 0, 0, 1, 0, 0, 0, 0, 0, 1, 0, 0, 0, 1, 0, 0, 0, 0, 0,\n",
       "       1, 0, 0, 1, 0, 0, 0, 0, 0, 1, 0, 0, 0, 0, 0, 1, 0, 0, 0, 0, 0, 0,\n",
       "       0, 0, 0, 0, 0, 0, 0, 0, 0, 0, 1, 1, 0, 0, 0, 0, 0, 0, 0, 1, 0, 0,\n",
       "       0, 0, 0, 0, 1, 1, 0, 0, 0, 0, 0, 0, 0, 1, 0, 0, 0, 0, 0, 0, 0, 1,\n",
       "       0, 1, 0, 0, 1, 0, 0, 0, 0, 0, 0, 0, 1, 0, 0, 0, 0, 0, 1, 0, 0, 0,\n",
       "       0, 0, 0, 0, 1, 0, 1, 1, 0, 0, 0, 0, 0, 0, 0, 1, 0, 0, 0, 0, 0, 0,\n",
       "       0, 0, 1, 0, 0, 1, 0, 0, 0, 0, 1, 1, 0, 0, 0, 0, 0, 0, 0, 0, 0, 0,\n",
       "       0, 0, 0, 0, 0, 0, 0, 0, 0, 0, 1, 0, 0, 0, 0, 0, 0, 0, 0, 0, 0, 0,\n",
       "       0, 1, 1, 0, 0, 0, 0, 0, 0, 0, 0, 1, 1, 0, 1, 1, 0, 0, 0, 0, 0, 0,\n",
       "       0, 0, 1, 1, 0, 0, 1, 0, 0, 0, 0, 0, 0, 1, 0, 0, 1, 0, 0, 0, 0, 0,\n",
       "       0, 0, 0, 0, 0, 0, 0, 0, 0, 0, 0, 1, 0, 1, 1, 1, 0, 0, 0, 0, 1, 0,\n",
       "       0, 0, 0, 0, 0, 0, 0, 0], dtype=int64)"
      ]
     },
     "execution_count": 19,
     "metadata": {},
     "output_type": "execute_result"
    }
   ],
   "source": [
    "y_test"
   ]
  },
  {
   "cell_type": "code",
   "execution_count": 20,
   "id": "2e294af8",
   "metadata": {},
   "outputs": [
    {
     "name": "stdout",
     "output_type": "stream",
     "text": [
      "(1176, 30)\n",
      "(1176,)\n",
      "(294, 30)\n",
      "(294,)\n"
     ]
    }
   ],
   "source": [
    "print(x_train.shape)\n",
    "print(y_train.shape)\n",
    "print(x_test.shape)\n",
    "print(y_test.shape)"
   ]
  },
  {
   "cell_type": "markdown",
   "id": "115f97fe",
   "metadata": {},
   "source": [
    "#### Feature Scaling"
   ]
  },
  {
   "cell_type": "code",
   "execution_count": 21,
   "id": "40165bbd",
   "metadata": {},
   "outputs": [],
   "source": [
    "from sklearn.preprocessing import StandardScaler\n",
    "scaler = StandardScaler()\n",
    "x_train = scaler.fit_transform(x_train)\n",
    "x_test = scaler.transform(x_test)"
   ]
  },
  {
   "cell_type": "markdown",
   "id": "99047385",
   "metadata": {},
   "source": [
    "###  Logistic Regression"
   ]
  },
  {
   "cell_type": "code",
   "execution_count": 22,
   "id": "00ae78db",
   "metadata": {},
   "outputs": [
    {
     "data": {
      "text/plain": [
       "LogisticRegression(random_state=0)"
      ]
     },
     "execution_count": 22,
     "metadata": {},
     "output_type": "execute_result"
    }
   ],
   "source": [
    "from sklearn.linear_model import LogisticRegression\n",
    "regressor = LogisticRegression(random_state=0)\n",
    "regressor.fit(x_train, y_train)"
   ]
  },
  {
   "cell_type": "code",
   "execution_count": 23,
   "id": "f5633c8a",
   "metadata": {},
   "outputs": [
    {
     "name": "stdout",
     "output_type": "stream",
     "text": [
      "Logistic Regression Accuracy:  86.39455782312925 %\n"
     ]
    }
   ],
   "source": [
    "from sklearn.metrics import accuracy_score\n",
    "accuracy = accuracy_score(y_test, regressor.predict(x_test))*100\n",
    "print('Logistic Regression Accuracy: ',accuracy,'%')"
   ]
  },
  {
   "cell_type": "markdown",
   "id": "8fead838",
   "metadata": {},
   "source": [
    "### Random Forest Classifer"
   ]
  },
  {
   "cell_type": "code",
   "execution_count": 24,
   "id": "d420d00a",
   "metadata": {},
   "outputs": [
    {
     "name": "stdout",
     "output_type": "stream",
     "text": [
      "Random Forest Accuracy: 86.05442176870748 %\n"
     ]
    }
   ],
   "source": [
    "from sklearn.ensemble import RandomForestClassifier\n",
    "rf = RandomForestClassifier()\n",
    "rf.fit(x_train, y_train)\n",
    "print('Random Forest Accuracy:',accuracy_score(y_test, rf.predict(x_test))*100,'%')"
   ]
  },
  {
   "cell_type": "markdown",
   "id": "71412181",
   "metadata": {},
   "source": [
    "### 10 Fold Cross Validation"
   ]
  },
  {
   "cell_type": "code",
   "execution_count": 25,
   "id": "3d6a21ad",
   "metadata": {},
   "outputs": [
    {
     "name": "stdout",
     "output_type": "stream",
     "text": [
      "10-Fold Cross Validation Average Accuracy:  85.88729537882081 %\n"
     ]
    }
   ],
   "source": [
    "from sklearn import model_selection\n",
    "from sklearn.model_selection import cross_val_score\n",
    "kfold = model_selection.KFold(n_splits=10, random_state=7, shuffle=True)\n",
    "results = model_selection.cross_val_score(RandomForestClassifier(), x_train, y_train, cv=kfold, scoring='accuracy')\n",
    "print('10-Fold Cross Validation Average Accuracy: ' ,results.mean()*100,'%')"
   ]
  },
  {
   "cell_type": "markdown",
   "id": "5968622b",
   "metadata": {},
   "source": [
    "### Model Evaluation"
   ]
  },
  {
   "cell_type": "markdown",
   "id": "ae034214",
   "metadata": {},
   "source": [
    "#### Precision, Recall and F-Score"
   ]
  },
  {
   "cell_type": "code",
   "execution_count": 26,
   "id": "2b60fc24",
   "metadata": {},
   "outputs": [
    {
     "name": "stdout",
     "output_type": "stream",
     "text": [
      "              precision    recall  f1-score   support\n",
      "\n",
      "           0       0.87      0.98      0.92       246\n",
      "           1       0.73      0.23      0.35        48\n",
      "\n",
      "    accuracy                           0.86       294\n",
      "   macro avg       0.80      0.61      0.64       294\n",
      "weighted avg       0.85      0.86      0.83       294\n",
      "\n"
     ]
    }
   ],
   "source": [
    "from sklearn.metrics import classification_report\n",
    "print(classification_report(y_test, rf.predict(x_test)))"
   ]
  },
  {
   "cell_type": "code",
   "execution_count": 27,
   "id": "a416adcf",
   "metadata": {},
   "outputs": [
    {
     "name": "stdout",
     "output_type": "stream",
     "text": [
      "              precision    recall  f1-score   support\n",
      "\n",
      "           0       0.88      0.98      0.92       246\n",
      "           1       0.70      0.29      0.41        48\n",
      "\n",
      "    accuracy                           0.86       294\n",
      "   macro avg       0.79      0.63      0.67       294\n",
      "weighted avg       0.85      0.86      0.84       294\n",
      "\n"
     ]
    }
   ],
   "source": [
    "print(classification_report(y_test, regressor.predict(x_test)))"
   ]
  },
  {
   "cell_type": "markdown",
   "id": "6db867a1",
   "metadata": {},
   "source": [
    "### Confusion Matrix"
   ]
  },
  {
   "cell_type": "code",
   "execution_count": 28,
   "id": "a1db5754",
   "metadata": {},
   "outputs": [
    {
     "data": {
      "text/plain": [
       "array([[240,   6],\n",
       "       [ 34,  14]], dtype=int64)"
      ]
     },
     "execution_count": 28,
     "metadata": {},
     "output_type": "execute_result"
    }
   ],
   "source": [
    "import sklearn.metrics as metrics\n",
    "y_pred = regressor.predict(x_test)\n",
    "metrics.confusion_matrix(y_test, y_pred)"
   ]
  },
  {
   "cell_type": "code",
   "execution_count": 29,
   "id": "b2ecdc01",
   "metadata": {},
   "outputs": [
    {
     "name": "stderr",
     "output_type": "stream",
     "text": [
      "c:\\users\\sonali\\appdata\\local\\programs\\python\\python39\\lib\\site-packages\\sklearn\\utils\\validation.py:70: FutureWarning: Pass labels=[1, 0] as keyword args. From version 1.0 (renaming of 0.25) passing these as positional arguments will result in an error\n",
      "  warnings.warn(f\"Pass {args_msg} as keyword args. From version \"\n"
     ]
    },
    {
     "data": {
      "text/plain": [
       "Text(0.5, 1.0, 'Logistic Regression')"
      ]
     },
     "execution_count": 29,
     "metadata": {},
     "output_type": "execute_result"
    },
    {
     "data": {
      "image/png": "[encoded data removed]",
      "text/plain": [
       "<Figure size 432x288 with 2 Axes>"
      ]
     },
     "metadata": {
      "needs_background": "light"
     },
     "output_type": "display_data"
    }
   ],
   "source": [
    "import seaborn as sns\n",
    "regressor_cm = metrics.confusion_matrix(y_pred, y_test,[1,0])\n",
    "sns.heatmap(regressor_cm, annot=True,xticklabels = [\"Left\", \"Stayed\"] , yticklabels = [\"Left\", \"Stayed\"] )\n",
    "plt.ylabel('Actual Class')\n",
    "plt.xlabel('Predicted class')\n",
    "plt.title('Logistic Regression')"
   ]
  },
  {
   "cell_type": "markdown",
   "id": "37d2e9d8",
   "metadata": {},
   "source": [
    "This confusion matrix shows number of false positives, false negatives and accurate results. \n",
    "Using these values, \n",
    "\n",
    "Error Rate (FP+FN)/Total = 0.13 \n",
    "\n",
    "Accuracy (TP+TN)/Total = 0.87 "
   ]
  },
  {
   "cell_type": "markdown",
   "id": "b86faf57",
   "metadata": {},
   "source": [
    "### Data Visualization"
   ]
  },
  {
   "cell_type": "markdown",
   "id": "05623564",
   "metadata": {},
   "source": [
    "#### Random Forest Feature Importance"
   ]
  },
  {
   "cell_type": "code",
   "execution_count": 30,
   "id": "d00dfda6",
   "metadata": {},
   "outputs": [],
   "source": [
    "feature_labels = np.array(['Age', 'BusinessTravel', 'DailyRate', 'Department',\n",
    "       'DistanceFromHome', 'Education', 'EducationField', 'EnvironmentSatisfaction', 'Gender', 'HourlyRate',\n",
    "       'JobInvolvement', 'JobLevel', 'JobRole', 'JobSatisfaction',\n",
    "       'MaritalStatus', 'MonthlyIncome', 'MonthlyRate', 'NumCompaniesWorked',\n",
    "       'OverTime', 'PercentSalaryHike', 'PerformanceRating',\n",
    "       'RelationshipSatisfaction', 'StockOptionLevel',\n",
    "       'TotalWorkingYears', 'TrainingTimesLastYear', 'WorkLifeBalance',\n",
    "       'YearsAtCompany', 'YearsInCurrentRole', 'YearsSinceLastPromotion',\n",
    "       'YearsWithCurrManager'])\n",
    "importance = rf.feature_importances_\n",
    "feature_indexes_by_importance = importance.argsort()"
   ]
  },
  {
   "cell_type": "markdown",
   "id": "9e83b0ef",
   "metadata": {},
   "source": [
    "Random Forest Feature Importance helps in the analysis of relevance and influence of features on the dependent variable. Through the importance percentage it is evident that the main causes cited by employees before resigning (in ascending order of impact) are:\n",
    "\n"
   ]
  },
  {
   "cell_type": "code",
   "execution_count": 31,
   "id": "39a0cbc8",
   "metadata": {},
   "outputs": [
    {
     "name": "stdout",
     "output_type": "stream",
     "text": [
      "PerformanceRating: 0.61% \n",
      "Gender: 0.88% \n",
      "BusinessTravel: 1.21% \n",
      "Department: 1.25% \n",
      "JobLevel: 1.73% \n",
      "Education: 2.08% \n",
      "RelationshipSatisfaction: 2.15% \n",
      "WorkLifeBalance: 2.35% \n",
      "EducationField: 2.36% \n",
      "MaritalStatus: 2.45% \n",
      "YearsInCurrentRole: 2.58% \n",
      "YearsSinceLastPromotion: 2.66% \n",
      "TrainingTimesLastYear: 2.69% \n",
      "StockOptionLevel: 2.71% \n",
      "NumCompaniesWorked: 2.83% \n",
      "JobSatisfaction: 2.88% \n",
      "JobRole: 3.06% \n",
      "JobInvolvement: 3.10% \n",
      "YearsWithCurrManager: 3.35% \n",
      "EnvironmentSatisfaction: 3.55% \n",
      "PercentSalaryHike: 3.74% \n",
      "YearsAtCompany: 4.11% \n",
      "DistanceFromHome: 4.63% \n",
      "HourlyRate: 5.02% \n",
      "TotalWorkingYears: 5.08% \n",
      "DailyRate: 5.42% \n",
      "OverTime: 5.45% \n",
      "MonthlyRate: 5.71% \n",
      "Age: 6.54% \n",
      "MonthlyIncome: 7.80% \n"
     ]
    }
   ],
   "source": [
    "for index in feature_indexes_by_importance:\n",
    "    print('{}: {:.2f}% '.format(feature_labels[index], (importance[index] *100.0)))"
   ]
  },
  {
   "cell_type": "markdown",
   "id": "ebc1d661",
   "metadata": {},
   "source": [
    "Visualizing this data will make it more understandable:"
   ]
  },
  {
   "cell_type": "code",
   "execution_count": 32,
   "id": "ff73ca45",
   "metadata": {},
   "outputs": [],
   "source": [
    "top_indices = (-importance).argsort()[:10]\n",
    "top_features = np.take(feature_labels, top_indices)\n",
    "top_importance = np.take(importance, top_indices)"
   ]
  },
  {
   "cell_type": "code",
   "execution_count": 33,
   "id": "b4b964e8",
   "metadata": {},
   "outputs": [
    {
     "data": {
      "image/png": "[encoded data removed]",
      "text/plain": [
       "<Figure size 432x288 with 1 Axes>"
      ]
     },
     "metadata": {
      "needs_background": "light"
     },
     "output_type": "display_data"
    }
   ],
   "source": [
    "plt.barh(top_features, top_importance*100,color=['#00876c','#4c9c85','#78b19f','#a0c6b9','#c8dbd5','#f1cfce','#eeadad','#e88b8d','#df676e','#d43d51'])\n",
    "plt.title('Random Forest Feature Importance\\nTop 10 Features')\n",
    "plt.xlabel('Relevance %')\n",
    "plt.ylabel('Features')\n",
    "plt.show()"
   ]
  },
  {
   "cell_type": "markdown",
   "id": "12645d5a",
   "metadata": {},
   "source": [
    "Now that the main factors affecting attrition have been identified, an in-depth analysis of these will help get better insight into why employees are leaving and trends in these features. "
   ]
  },
  {
   "cell_type": "code",
   "execution_count": 34,
   "id": "bde9e7ee",
   "metadata": {},
   "outputs": [
    {
     "data": {
      "text/plain": [
       "Index(['Age', 'Attrition', 'BusinessTravel', 'DailyRate', 'Department',\n",
       "       'DistanceFromHome', 'Education', 'EducationField',\n",
       "       'EnvironmentSatisfaction', 'Gender', 'HourlyRate', 'JobInvolvement',\n",
       "       'JobLevel', 'JobRole', 'JobSatisfaction', 'MaritalStatus',\n",
       "       'MonthlyIncome', 'MonthlyRate', 'NumCompaniesWorked', 'OverTime',\n",
       "       'PercentSalaryHike', 'PerformanceRating', 'RelationshipSatisfaction',\n",
       "       'StockOptionLevel', 'TotalWorkingYears', 'TrainingTimesLastYear',\n",
       "       'WorkLifeBalance', 'YearsAtCompany', 'YearsInCurrentRole',\n",
       "       'YearsSinceLastPromotion', 'YearsWithCurrManager'],\n",
       "      dtype='object')"
      ]
     },
     "execution_count": 34,
     "metadata": {},
     "output_type": "execute_result"
    }
   ],
   "source": [
    "data = pd.read_csv('Employee Data.csv')\n",
    "data = data.drop(columns=['Over18', 'StandardHours', 'EmployeeCount','EmployeeNumber'])\n",
    "data.columns"
   ]
  },
  {
   "cell_type": "code",
   "execution_count": 35,
   "id": "6e3844cd",
   "metadata": {},
   "outputs": [],
   "source": [
    "attrition_true = data.loc[data['Attrition']=='Yes']\n",
    "attrition_false = data.loc[data['Attrition']=='No']"
   ]
  },
  {
   "cell_type": "markdown",
   "id": "0d51814c",
   "metadata": {},
   "source": [
    "#### Analysis of Churned Employees"
   ]
  },
  {
   "cell_type": "code",
   "execution_count": 36,
   "id": "ce5fee60",
   "metadata": {},
   "outputs": [],
   "source": [
    "job_involvement = attrition_true['JobInvolvement'].value_counts().to_numpy()\n",
    "performance_rating = attrition_true['PerformanceRating'].value_counts().to_numpy()"
   ]
  },
  {
   "cell_type": "code",
   "execution_count": 37,
   "id": "00f90363",
   "metadata": {
    "scrolled": true
   },
   "outputs": [
    {
     "data": {
      "image/png": "[encoded data removed]",
      "text/plain": [
       "<Figure size 432x288 with 2 Axes>"
      ]
     },
     "metadata": {},
     "output_type": "display_data"
    }
   ],
   "source": [
    "fig = plt.figure()\n",
    "ax1 = fig.add_axes([0, 0, .5, .5], aspect=5)\n",
    "ax1.pie(job_involvement, labels = dataset['JobInvolvement'].unique(),autopct='%.1f%%',radius=1.2)\n",
    "ax2 = fig.add_axes([.5, .0, .5, .5], aspect=5)\n",
    "ax2.pie(performance_rating, labels = dataset['PerformanceRating'].unique(),autopct='%.1f%%',radius=1.2)\n",
    "ax1.set_title('Job Involvement Ratings\\n')\n",
    "ax2.set_title('Performance Ratings\\n')\n",
    "plt.show()"
   ]
  },
  {
   "cell_type": "markdown",
   "id": "f7dd11c6",
   "metadata": {},
   "source": [
    "#### Impact on the Company\n",
    "\n",
    "Job Involvement Rating: The employee involvement rating is measured on a 4 point scale with 4 being the highest. Around 53% of employees who left were the most involved and dedicated employees. Hardly 6% of the churned employees were ones with low engagement and interest in work (1 rating). This is an issue for the company considering they're losing their valuable employees. \n",
    "\n",
    "Performance Rating: Only 15% of churned employees had the highest perfomance rating, majority were average performers."
   ]
  },
  {
   "cell_type": "markdown",
   "id": "70ffb04b",
   "metadata": {},
   "source": [
    "#### Jobs with most Churned Employees"
   ]
  },
  {
   "cell_type": "code",
   "execution_count": 38,
   "id": "98bdb0ae",
   "metadata": {},
   "outputs": [
    {
     "data": {
      "text/plain": [
       "Laboratory Technician        62\n",
       "Sales Executive              57\n",
       "Research Scientist           47\n",
       "Sales Representative         33\n",
       "Human Resources              12\n",
       "Manufacturing Director       10\n",
       "Healthcare Representative     9\n",
       "Manager                       5\n",
       "Research Director             2\n",
       "Name: JobRole, dtype: int64"
      ]
     },
     "execution_count": 38,
     "metadata": {},
     "output_type": "execute_result"
    }
   ],
   "source": [
    "role_count = attrition_true['JobRole'].value_counts()[:9]\n",
    "roles = ['Laboratory Technician', 'Sales Executive', 'Research Scientist', 'Sales Representative','Human Resources','Manufacturing Director','Healthcare Representative','Manager','Research Director']\n",
    "role_count"
   ]
  },
  {
   "cell_type": "code",
   "execution_count": 39,
   "id": "48a0cfbf",
   "metadata": {},
   "outputs": [
    {
     "data": {
      "image/png": "[encoded data removed]",
      "text/plain": [
       "<Figure size 432x288 with 1 Axes>"
      ]
     },
     "metadata": {
      "needs_background": "light"
     },
     "output_type": "display_data"
    }
   ],
   "source": [
    "plt.title('Job Role vs Churned Employees')\n",
    "plt.xlabel('Number of Employees')\n",
    "plt.ylabel('Job Roles')\n",
    "plt.barh(roles,role_count,color=['#00876c','#4c9c85','#78b19f','#a0c6b9','#c8dbd5','#f1cfce','#eeadad','#e88b8d','#df676e','#d43d51'])\n",
    "plt.show()"
   ]
  },
  {
   "cell_type": "markdown",
   "id": "6abf0bc1",
   "metadata": {},
   "source": [
    "Laboratory Technicians, Sales Executives, Research Scientists and Sale Representatives are the Job Roles that have higher probability of attrition. Whereas Research Director, Manager, Healthcare Rep. and HR have the least probability of attrition."
   ]
  },
  {
   "cell_type": "code",
   "execution_count": 40,
   "id": "38e5bd16",
   "metadata": {},
   "outputs": [],
   "source": [
    "dept_count = attrition_true['Department'].value_counts()\n",
    "dept = ['Research & Development', 'Sales', 'Human Resources']"
   ]
  },
  {
   "cell_type": "code",
   "execution_count": 41,
   "id": "4ccc8db0",
   "metadata": {},
   "outputs": [
    {
     "data": {
      "image/png": "[encoded data removed]",
      "text/plain": [
       "<Figure size 432x288 with 1 Axes>"
      ]
     },
     "metadata": {
      "needs_background": "light"
     },
     "output_type": "display_data"
    }
   ],
   "source": [
    "plt.title('Department vs Churned Employees')\n",
    "plt.xlabel('Number of Employees')\n",
    "plt.ylabel('Department')\n",
    "plt.barh(dept,dept_count,color=['#00876c','#4c9c85','#78b19f','#a0c6b9','#c8dbd5','#f1cfce','#eeadad','#e88b8d','#df676e','#d43d51'])\n",
    "plt.show()"
   ]
  },
  {
   "cell_type": "markdown",
   "id": "d2006766",
   "metadata": {},
   "source": [
    "The HR department has least probability of attrition. "
   ]
  },
  {
   "cell_type": "markdown",
   "id": "0dd1fedc",
   "metadata": {},
   "source": [
    "#### Analysing Overtime"
   ]
  },
  {
   "cell_type": "code",
   "execution_count": 42,
   "id": "69da00a1",
   "metadata": {},
   "outputs": [
    {
     "data": {
      "text/plain": [
       "Yes    787.721519\n",
       "No     682.278481\n",
       "Name: OverTime, dtype: float64"
      ]
     },
     "execution_count": 42,
     "metadata": {},
     "output_type": "execute_result"
    }
   ],
   "source": [
    "overtime_left = attrition_true['OverTime'].value_counts(normalize=True)*1470\n",
    "overtime_left"
   ]
  },
  {
   "cell_type": "code",
   "execution_count": 43,
   "id": "0c117b8b",
   "metadata": {},
   "outputs": [
    {
     "data": {
      "text/plain": [
       "Yes     416.0\n",
       "No     1054.0\n",
       "Name: OverTime, dtype: float64"
      ]
     },
     "execution_count": 43,
     "metadata": {},
     "output_type": "execute_result"
    }
   ],
   "source": [
    "overtime_total = data['OverTime'].value_counts(normalize=True,ascending=True)*1470\n",
    "overtime_total"
   ]
  },
  {
   "cell_type": "code",
   "execution_count": 44,
   "id": "68f12f2a",
   "metadata": {},
   "outputs": [
    {
     "data": {
      "image/png": "[encoded data removed]",
      "text/plain": [
       "<Figure size 432x288 with 1 Axes>"
      ]
     },
     "metadata": {
      "needs_background": "light"
     },
     "output_type": "display_data"
    }
   ],
   "source": [
    "x = ['Worked Overtime', 'No Overtime']\n",
    "plt.title('OverTime')\n",
    "plt.ylabel('Number of Employees')\n",
    "plt.bar(x, overtime_left,color='#24b1d1')\n",
    "plt.bar(x, overtime_total, bottom=overtime_left, color= '#ae24d1')\n",
    "plt.legend([\"Churned Employees\", \"All Employees\"])\n",
    "plt.show()"
   ]
  },
  {
   "cell_type": "markdown",
   "id": "a9045c2d",
   "metadata": {},
   "source": [
    "Majority of employees who worked overtime left and most of the employees remaining in the company do not work overtime."
   ]
  },
  {
   "cell_type": "markdown",
   "id": "10dccfbb",
   "metadata": {},
   "source": [
    "#### Analysing Salaries"
   ]
  },
  {
   "cell_type": "code",
   "execution_count": 45,
   "id": "49708646",
   "metadata": {},
   "outputs": [
    {
     "name": "stdout",
     "output_type": "stream",
     "text": [
      "Average Salary Data for Current Employees\n",
      "Monthly Income:  6832.739659367397\n",
      "Monthly Rate:  14265.779399837795\n",
      "Daily Rate:  812.5044606650446\n",
      "Hourly Rate:  65.9521492295215\n",
      "\n",
      "Average Salary Data for Churned Employees\n",
      "Monthly Income:  4787.0928270042195\n",
      "Monthly Rate:  14559.308016877638\n",
      "Daily Rate:  750.3628691983122\n",
      "Hourly Rate:  65.57383966244726\n"
     ]
    }
   ],
   "source": [
    "print(\"Average Salary Data for Current Employees\")\n",
    "print('Monthly Income: ', attrition_false['MonthlyIncome'].mean())\n",
    "print('Monthly Rate: ', attrition_false['MonthlyRate'].mean())\n",
    "print('Daily Rate: ', attrition_false['DailyRate'].mean())\n",
    "print('Hourly Rate: ', attrition_false['HourlyRate'].mean())\n",
    "print(\"\\nAverage Salary Data for Churned Employees\")\n",
    "print('Monthly Income: ', attrition_true['MonthlyIncome'].mean())\n",
    "print('Monthly Rate: ', attrition_true['MonthlyRate'].mean())\n",
    "print('Daily Rate: ', attrition_true['DailyRate'].mean())\n",
    "print('Hourly Rate: ', attrition_true['HourlyRate'].mean())"
   ]
  },
  {
   "cell_type": "code",
   "execution_count": 46,
   "id": "92edfe8d",
   "metadata": {},
   "outputs": [
    {
     "data": {
      "image/png": "[encoded data removed]",
      "text/plain": [
       "<Figure size 432x288 with 1 Axes>"
      ]
     },
     "metadata": {
      "needs_background": "light"
     },
     "output_type": "display_data"
    }
   ],
   "source": [
    "X = ['Monthly Income','Monthly Rate','Daily Rate','Hourly Rate']\n",
    "Churn = [4787.0928270042195,14559.308016877638,750.3628691983122,65.57383966244726]\n",
    "Current = [6832.739659367397,14265.779399837795,812.5044606650446,65.9521492295215]\n",
    "  \n",
    "X_axis = np.arange(len(X))\n",
    "  \n",
    "plt.bar(X_axis - 0.2, Churn, 0.4, label = 'Churned Employees',color='#ae24d1')\n",
    "plt.bar(X_axis + 0.2, Current, 0.4, label = 'Current Employees',color='#24b1d1')\n",
    "  \n",
    "plt.xticks(X_axis, X)\n",
    "plt.xlabel(\"Salary Features\")\n",
    "plt.ylabel(\"Amount\")\n",
    "plt.title(\"Mean Salary Comparison\")\n",
    "plt.legend()\n",
    "plt.show()"
   ]
  },
  {
   "cell_type": "markdown",
   "id": "a110eaba",
   "metadata": {},
   "source": [
    "The #1 factor for employee attrition was Monthly Income. Since the churned employees have a lower monthly income compared to the currently working employees (on average), this could explain why employees are leaving."
   ]
  },
  {
   "cell_type": "markdown",
   "id": "f148928c",
   "metadata": {},
   "source": [
    "#### Environment Satisfaction"
   ]
  },
  {
   "cell_type": "code",
   "execution_count": 47,
   "id": "c694b44b",
   "metadata": {},
   "outputs": [
    {
     "data": {
      "text/plain": [
       "1    30.379747\n",
       "3    26.160338\n",
       "4    25.316456\n",
       "2    18.143460\n",
       "Name: EnvironmentSatisfaction, dtype: float64"
      ]
     },
     "execution_count": 47,
     "metadata": {},
     "output_type": "execute_result"
    }
   ],
   "source": [
    "attrition_true['EnvironmentSatisfaction'].value_counts()/237*100"
   ]
  },
  {
   "cell_type": "code",
   "execution_count": 48,
   "id": "df2d970f",
   "metadata": {},
   "outputs": [
    {
     "data": {
      "text/plain": [
       "3    31.711273\n",
       "4    31.305758\n",
       "2    19.789132\n",
       "1    17.193836\n",
       "Name: EnvironmentSatisfaction, dtype: float64"
      ]
     },
     "execution_count": 48,
     "metadata": {},
     "output_type": "execute_result"
    }
   ],
   "source": [
    "attrition_false['EnvironmentSatisfaction'].value_counts()/1233*100"
   ]
  },
  {
   "cell_type": "code",
   "execution_count": 50,
   "id": "45a0d848",
   "metadata": {},
   "outputs": [
    {
     "data": {
      "image/png": "[encoded data removed]",
      "text/plain": [
       "<Figure size 432x288 with 1 Axes>"
      ]
     },
     "metadata": {
      "needs_background": "light"
     },
     "output_type": "display_data"
    }
   ],
   "source": [
    "X = ['Not Satisfied','Slightly Satisfied','Satisfied','Very Satisfied']\n",
    "Churn = [30.379747, 18.143460, 26.160338, 25.316456]\n",
    "Current = [17.193836, 19.789132, 31.711273,31.305758]\n",
    "\n",
    "X_axis = np.arange(len(X))\n",
    "  \n",
    "plt.bar(X_axis - 0.2, Churn, 0.4, label = 'Churned Employees',color='#ae24d1')\n",
    "plt.bar(X_axis + 0.2, Current, 0.4, label = 'Current Employees',color='#24b1d1')\n",
    "  \n",
    "plt.xticks(X_axis, X)\n",
    "plt.xlabel(\"Rating\")\n",
    "plt.ylabel(\"Percentage of Employees\")\n",
    "plt.title(\"Environment Satisfaction Rating\")\n",
    "plt.legend()\n",
    "plt.show()"
   ]
  },
  {
   "cell_type": "markdown",
   "id": "6d2c6cf5",
   "metadata": {},
   "source": [
    "Environment Satisfaction Rating is measured on a four point scale. More than 30% of churned employees gave the lowest possible rating (1= Not Satisfied) implying that many weren't happy with the physical setting, productivity rates or the general spirit of the workplace. "
   ]
  },
  {
   "cell_type": "code",
   "execution_count": 62,
   "id": "d75f9eab",
   "metadata": {},
   "outputs": [
    {
     "data": {
      "text/plain": [
       "Male      63.291139\n",
       "Female    36.708861\n",
       "Name: Gender, dtype: float64"
      ]
     },
     "execution_count": 62,
     "metadata": {},
     "output_type": "execute_result"
    }
   ],
   "source": [
    "gender_left = attrition_true['Gender'].value_counts()/237*100\n",
    "gender_left"
   ]
  },
  {
   "cell_type": "code",
   "execution_count": 64,
   "id": "ed9ca8b9",
   "metadata": {},
   "outputs": [
    {
     "data": {
      "text/plain": [
       "Male      60.0\n",
       "Female    40.0\n",
       "Name: Gender, dtype: float64"
      ]
     },
     "execution_count": 64,
     "metadata": {},
     "output_type": "execute_result"
    }
   ],
   "source": [
    "gender_total = data['Gender'].value_counts()/1470*100\n",
    "gender_total"
   ]
  },
  {
   "cell_type": "code",
   "execution_count": 71,
   "id": "39d3a4f2",
   "metadata": {},
   "outputs": [
    {
     "data": {
      "image/png": "[encoded data removed]",
      "text/plain": [
       "<Figure size 432x288 with 1 Axes>"
      ]
     },
     "metadata": {
      "needs_background": "light"
     },
     "output_type": "display_data"
    }
   ],
   "source": [
    "x = ['Male', 'Female']\n",
    "plt.title('Gender based Attrition')\n",
    "plt.ylabel('Number of Employees')\n",
    "plt.bar(x, gender_left,color='#24b1d1')\n",
    "plt.bar(x, gender_total, bottom=gender_left, color= '#ae24d1')\n",
    "plt.legend([\"Churned Employees\", \"All Employees\"])\n",
    "plt.show()"
   ]
  },
  {
   "cell_type": "markdown",
   "id": "5ff497ae",
   "metadata": {},
   "source": [
    "### Summary"
   ]
  },
  {
   "cell_type": "markdown",
   "id": "7ee0e1cb",
   "metadata": {},
   "source": [
    "Preferred Model is *Logistic Regression*, with an accuracy of *86.39%*\n",
    "\n",
    "##### Top Features affecting Employee Attrition:\n",
    "    \n",
    "a. *Monthly Income, Monthly Rate, Daily Rate, Hourly Rate*: It is recommended that the Accounting and HR Department attend to these grievances; introducing performance based compensation (if the budget allows for it) could keep the employees engaged and involved.\n",
    "    \n",
    "b. *Overtime*: Employees working overtime have a higher tendency to leave. This could be because of lack of compensation for working overtime. The company should allocate resources to look into this issue. \n",
    "\n",
    "c. *Age, Years at Company, Total Working Years*: Older employees almost always have higher Job Levels and Years with Company and also Monthly Incomes (shown by a lighter colour implying positive correlation, direct proportionality => older the employee, higher the job level), however with an increase in age there is also a positive correlation shown between Age and Years since Last Promotion and a negative correlation with Percent Salary Hike. This could be a possible explanation why Age is one of the most significant variables. In simple words, more experienced employees are probably being passed over for promotions and salary hikes by their younger counterparts. \n",
    "    \n",
    "d. *Department and Job-Role*: The Sales and R&D Departments have very high churn rates, since Sales Executive and Lab Technician are the two job roles that have seen the most resignations. The company should look into the working of these departments especially analyzing the work environment. The HR Department is doing quite well in this regard.\n",
    "\n",
    "e. *Environment Satisfaction*: More than a third of the churned employees gave the company the lowest possible rating for environment satisfaction. Resources should be allocated to figuring out exactly what has led to their dissatisfaction and steps that should be taken for the betterment of the workplace."
   ]
  }
 ],
 "metadata": {
  "kernelspec": {
   "display_name": "Python 3 (ipykernel)",
   "language": "python",
   "name": "python3"
  },
  "language_info": {
   "codemirror_mode": {
    "name": "ipython",
    "version": 3
   },
   "file_extension": ".py",
   "mimetype": "text/x-python",
   "name": "python",
   "nbconvert_exporter": "python",
   "pygments_lexer": "ipython3",
   "version": "3.9.6"
  }
 },
 "nbformat": 4,
 "nbformat_minor": 5
}
